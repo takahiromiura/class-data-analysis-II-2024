{
 "cells": [
  {
   "cell_type": "markdown",
   "metadata": {},
   "source": [
    "# Pandas 入門\n",
    "\n",
    "[`pandas`](https://pandas.pydata.org/docs/index.html) は 様々な I/O (入出力) 処理、高機能なデータ処理の機能を提供する Python の外部ライブラリです。\n",
    "例えば、`csv` や `xlsx` (エクセルのデータ形式) などのデータファイルの読み込み・書き込みや、複数のデータの結合などを可能にします。\n",
    "まず、`pandas` の基本的な使い方について説明します。\n",
    "\n",
    "## キーワード\n",
    "\n",
    "- `Series`, `DataFrame`\n",
    "- インデックス・カラム\n",
    "- データ型\n",
    "- I/O 処理\n",
    "- `groupby`\n",
    "\n",
    "## 基本的なデータ構造の概念\n",
    "\n",
    "`pandas` で基本となるデータ構造 (クラス) は、`Series` と `DataFrame` です。\n",
    "`Series` と `DataFrame` は、今までに学んだリストや辞書などのデータ構造と似ている部分もありますが、異なる部分もあります。\n",
    "特に重要な概念について、先に触れておきます。\n",
    "\n",
    "### インデックス・カラム\n",
    "\n",
    "`Series` は 1 次元のラベル付きベクトル (または配列) で、`DataFrame` は 2 次元のラベル付き行列 (または表形式のデータ)です。\n",
    "ラベルを用いることで特定の要素、`DataFrame` であれば特定の行や列のデータを参照できます。\n",
    "\n",
    "**インデックス** は、データを横に切った場合の *行* を識別するためのラベルです。\n",
    "`Series` と `DataFrame` どちらでも、インデックスによってデータの位置が特定できます。\n",
    "\n",
    "**カラム** は、データを縦に切った場合の *列* を識別するためのラベルです。\n",
    "`DataFrame` では、カラム毎に異なるデータ型を持つことができ、それぞれが特定の種類のデータを表します。\n",
    "\n",
    "### データ型\n",
    "\n",
    "**データ型** は、`DataFrame` のそれぞれのカラムのデータや `Series` のデータが数値、文字列、日付など何を表すかを定義します。\n",
    "適切なデータ型を使用することが、データの分析・操作を効率的かつ正確に行うために重要です。\n",
    "\n",
    "## Series, DataFrame の作成例\n",
    "\n",
    "以下は `Series` の作成例です。\n"
   ]
  },
  {
   "cell_type": "code",
   "execution_count": null,
   "metadata": {},
   "outputs": [],
   "source": [
    "from pandas import Series\n",
    "Series([1, 2, 3])"
   ]
  },
  {
   "cell_type": "markdown",
   "metadata": {},
   "source": [
    "`0, 1, 2` というのが、各要素 (行) ごとについているラベル (インデックス) です。\n",
    "このラベルを用いて、各要素 (行) を参照できます。"
   ]
  },
  {
   "cell_type": "code",
   "execution_count": null,
   "metadata": {},
   "outputs": [],
   "source": [
    "from pandas import Series\n",
    "data = Series([1, 2, 3])\n",
    "data[0]"
   ]
  },
  {
   "cell_type": "markdown",
   "metadata": {},
   "source": [
    "以下は `DataFrame` の作成例です。\n"
   ]
  },
  {
   "cell_type": "code",
   "execution_count": null,
   "metadata": {},
   "outputs": [],
   "source": [
    "DataFrame({\"item\": [\"apple\", \"melon\"], \"price\": [100, 1000]})"
   ]
  },
  {
   "cell_type": "markdown",
   "metadata": {},
   "source": [
    "`item`, `price` はカラムのラベルを示しています。\n",
    "以下は、ラベルを用いて特定の列 (カラム) を参照しています。\n"
   ]
  },
  {
   "cell_type": "code",
   "execution_count": null,
   "metadata": {},
   "outputs": [],
   "source": [
    "data = DataFrame({\"item\": [\"apple\", \"melon\"], \"price\": [100, 1000]})\n",
    "data[\"item\"]"
   ]
  },
  {
   "cell_type": "markdown",
   "metadata": {},
   "source": [
    "R を使ったことがある人はピンとくるかもしれませんが、DataFrame は R の data.frame 型と同じようなものです。 実際、pandas は R のデータ整理用のパッケージ、dplyr でできることの多くを実装しています。\n",
    "\n",
    "## pandas のインポート\n",
    "\n",
    "`pandas` のインポートは次のように行います。"
   ]
  },
  {
   "cell_type": "code",
   "execution_count": null,
   "metadata": {},
   "outputs": [],
   "source": [
    "import pandas"
   ]
  },
  {
   "cell_type": "markdown",
   "metadata": {},
   "source": [
    "通常、`pandas` は `pd` という略称でインポートされることが多いです。"
   ]
  },
  {
   "cell_type": "code",
   "execution_count": null,
   "metadata": {},
   "outputs": [],
   "source": [
    "import pandas as pd"
   ]
  },
  {
   "cell_type": "markdown",
   "metadata": {},
   "source": [
    "`pd` という略称は、`pandas` を使用する際の一般的な慣例です。\n",
    "これは多くの専門書やオンライン資料で一般的に見られます。\n",
    "標準化された略称を使用することで、コードの可読性が向上し、他の開発者がコードを理解しやすくなります。\n",
    "\n",
    "以降では、`pandas.<name>` を `pd.<name>` として表記します。"
   ]
  },
  {
   "cell_type": "markdown",
   "metadata": {},
   "source": [
    "## Series の基礎\n",
    "\n",
    "### Series の作成\n",
    "\n",
    "`Series` はリストやタプルなどのシーケンス型から生成できます。"
   ]
  },
  {
   "cell_type": "code",
   "execution_count": null,
   "metadata": {},
   "outputs": [],
   "source": [
    "Series([1, 2, 3])"
   ]
  },
  {
   "cell_type": "markdown",
   "metadata": {},
   "source": [
    "リストやタプルなどと異なる部分があることがわかります。\n",
    "順に説明します。\n",
    "\n",
    "### インデックス\n",
    "\n",
    "左の `0, 1, 2` がこの `Series` インスタンスのインデックスです。\n",
    "リストやタプルなどでもインデックスがありましたが、それとは少し異なります。\n",
    "`Series` や `DataFrame` におけるインデックスは、ある行を表す名前です。\n",
    "何も指定しない場合、先ほどのように、`0, 1, 2` という通し番号が振られます。\n",
    "リストやタプルにおけるインデックスは通し番号であったのに対し、`Series` や `DataFrame` のインデックスは指定・変更することが可能です。\n",
    "\n",
    "インデックスをあらかじめ指定するには、クラスを作成するときの引数にインデックスのシーケンスを加えます。"
   ]
  },
  {
   "cell_type": "code",
   "execution_count": null,
   "metadata": {},
   "outputs": [],
   "source": [
    "Series([1, 2, 3], index=[\"A\", \"B\", \"C\"])"
   ]
  },
  {
   "cell_type": "markdown",
   "metadata": {},
   "source": [
    "インデックスは `index` 属性として呼び出し可能で、また上書きをすることでインデックスを更新できます。"
   ]
  },
  {
   "cell_type": "code",
   "execution_count": null,
   "metadata": {},
   "outputs": [],
   "source": [
    "data = Series([1, 2, 3])\n",
    "data.index\n",
    "data.index = [\"A\", \"B\", \"C\"]\n",
    "data"
   ]
  },
  {
   "cell_type": "markdown",
   "metadata": {},
   "source": [
    "`RangeIndex(start=0, stop=3, step=1)` は `range` 関数が返すイテレーターのようなもので、0 から 3 の直前 (2) までの値を順に返すイテレーターであるということを意味しています。\n",
    "\n",
    "データの長さとインデックスの長さ、つまり要素の数が一致していない場合はエラーになります。\n",
    "以下のエラー文では、3 つの要素が求められているが、1 つしか得られなかったことでエラー (`ValueError`) になったと説明しています。"
   ]
  },
  {
   "cell_type": "code",
   "execution_count": null,
   "metadata": {},
   "outputs": [],
   "source": [
    "data = Series([1, 2, 3])\n",
    "data.index = [\"A\"]"
   ]
  },
  {
   "cell_type": "markdown",
   "metadata": {},
   "source": [
    "`Series` や `DataFrame` では、インデックスの値の重複を許します。\n",
    "例えば、`Series([1, 2, 3], index=[\"A\", \"A\", \"B\"])` はエラーにはなりません。\n",
    "しかし、インデックスが重複すると思わぬエラーや意図せぬ挙動を引き起こす可能性があるため、インデックスはデータ内で一意にすることをおすすめします。\n",
    "\n",
    "### Series の要素の取り出し\n",
    "\n",
    "インデックスを指定することで、それに対応するデータの値を取り出すことができます。"
   ]
  },
  {
   "cell_type": "code",
   "execution_count": null,
   "metadata": {},
   "outputs": [],
   "source": [
    "data = Series([1, 2, 3], index=[\"A\", \"B\", \"C\"])\n",
    "data[\"A\"]"
   ]
  },
  {
   "cell_type": "markdown",
   "metadata": {},
   "source": [
    "`loc` プロパティというものを使っても値を参照することができます。\n",
    "プロパティは、インスタンスから値を参照したり、逆に値を追加したりするときに使うための機能を指します。\n",
    "プロパティの呼び出しは、属性やメソッドと同じようにドット `.` を用います。\n",
    "プロパティの使い方は、プロパティがどのような機能を持っているかによって異なってきます。\n",
    "\n",
    "例えば、`loc` プロパティは次のように使います。"
   ]
  },
  {
   "cell_type": "code",
   "execution_count": null,
   "metadata": {},
   "outputs": [],
   "source": [
    "data.loc[\"A\"]"
   ]
  },
  {
   "cell_type": "markdown",
   "metadata": {},
   "source": [
    "`loc(\"A\")` ではないことに注意してください。\n",
    "\n",
    "また、`iloc` プロパティというものもあり、これはリストやタプルと同じように、通し番号によって要素を参照できます。\n",
    "Python ではお約束通り、通し番号は `0` から始まります。\n",
    "\n",
    "`iloc` プロパティの使い方は `loc` プロパティと似ています。"
   ]
  },
  {
   "cell_type": "code",
   "execution_count": null,
   "metadata": {},
   "outputs": [],
   "source": [
    "data.iloc[1]"
   ]
  },
  {
   "cell_type": "markdown",
   "metadata": {},
   "source": [
    "また、負の値の通し番号も振られています。"
   ]
  },
  {
   "cell_type": "code",
   "execution_count": null,
   "metadata": {},
   "outputs": [],
   "source": [
    "data.iloc[-1]"
   ]
  },
  {
   "cell_type": "markdown",
   "metadata": {},
   "source": [
    "### データ型\n",
    "\n",
    "`dtype` はこの `Series` のデータ型を示しています。\n",
    "これは、中に含まれているデータ全体の型を表しています。\n",
    "基本的にはデータの型を指定する必要はなく、`Series` を作成すると自動的にデータの全体の型を類推してくれます。"
   ]
  },
  {
   "cell_type": "code",
   "execution_count": null,
   "metadata": {},
   "outputs": [],
   "source": [
    "Series([1, 2, 3])"
   ]
  },
  {
   "cell_type": "markdown",
   "metadata": {},
   "source": [
    "データは整数 (`int`) 型だったので、`dtype` は `int64` になりました。\n",
    "\n",
    "`int` の後の数字はビット数で、64 ビットは -9223372036854775808 から 9223372036854775807 までの整数値を扱えます。\n",
    "他に、`int8` や `int16`、`int32` などがあります。\n",
    "基本的には、ビット数が多いものを使えば良いでしょう。\n",
    "\n",
    "小数点型をデータに含めるとどうなるでしょうか。"
   ]
  },
  {
   "cell_type": "code",
   "execution_count": null,
   "metadata": {},
   "outputs": [],
   "source": [
    "Series([1.25, 2, 3])"
   ]
  },
  {
   "cell_type": "markdown",
   "metadata": {},
   "source": [
    "`dtype` は小数点のデータ型、`float64` になったことがわかります。\n",
    "\n",
    "文字列をデータに加えてみます。"
   ]
  },
  {
   "cell_type": "code",
   "execution_count": null,
   "metadata": {},
   "outputs": [],
   "source": [
    "Series([\"A\", 1, 2])"
   ]
  },
  {
   "cell_type": "markdown",
   "metadata": {},
   "source": [
    "## DataFrame の基礎\n",
    "\n",
    "### DataFrame の作成\n",
    "\n",
    "`DataFrame` は値がリストの辞書やリストのリストなど、いくつかの方法を使ってデータを作成できます。\n",
    "しかし、データの作り方によってどのような `DataFrame` ができるかが異なるので注意が必要です。\n",
    "\n",
    "辞書の場合、各キーのリストが各カラムに対応します。"
   ]
  },
  {
   "cell_type": "code",
   "execution_count": null,
   "metadata": {},
   "outputs": [],
   "source": [
    "DataFrame({\"item\": [\"apple\", \"melon\"], \"price\": [100, 1000]})"
   ]
  },
  {
   "cell_type": "markdown",
   "metadata": {},
   "source": [
    "リストが入れ子になっている場合、各リストのインデックスが各カラムに対応します。"
   ]
  },
  {
   "cell_type": "code",
   "execution_count": null,
   "metadata": {},
   "outputs": [],
   "source": [
    "data = DataFrame([[\"apple\", 100], [\"melon\", 1000]])\n",
    "data"
   ]
  },
  {
   "cell_type": "markdown",
   "metadata": {},
   "source": [
    "### インデックス・カラム\n",
    "\n",
    "`DataFrame` では各インデックスは行、カラムは列に対応しています。\n",
    "`Series` と同様、インデックスを `DataFrame` 作成時に指定することが可能です。"
   ]
  },
  {
   "cell_type": "code",
   "execution_count": null,
   "metadata": {},
   "outputs": [],
   "source": [
    "DataFrame({\"item\": [\"apple\", \"melon\"], \"price\": [100, 1000]}, index=[\"A\", \"B\"])"
   ]
  },
  {
   "cell_type": "markdown",
   "metadata": {},
   "source": [
    "または、`index` 属性を上書きします。"
   ]
  },
  {
   "cell_type": "code",
   "execution_count": null,
   "metadata": {},
   "outputs": [],
   "source": [
    "data = DataFrame({\"item\": [\"apple\", \"melon\"], \"price\": [100, 1000]})\n",
    "data.index = [\"A\", \"B\"]\n",
    "data"
   ]
  },
  {
   "cell_type": "markdown",
   "metadata": {},
   "source": [
    "カラムも、インデックスと同様に、指定しない場合は自動で連番が振られます。\n",
    "`columns` という引数名で指定可能です。\n",
    "なお、辞書から作成した場合にはキーがカラム名として与えられます。"
   ]
  },
  {
   "cell_type": "code",
   "execution_count": null,
   "metadata": {},
   "outputs": [],
   "source": [
    "DataFrame([[\"apple\", 100], [\"melon\", 1000]], columns=[\"item\", \"price\"])"
   ]
  },
  {
   "cell_type": "markdown",
   "metadata": {},
   "source": [
    "`columns` 属性でカラム名を取得可能で、また上書きをすることもできます。"
   ]
  },
  {
   "cell_type": "code",
   "execution_count": null,
   "metadata": {},
   "outputs": [],
   "source": [
    "data = DataFrame({\"item\": [\"apple\", \"melon\"], \"price\": [100, 1000]})\n",
    "data.columns\n",
    "data.columns = [\"I\", \"P\"]\n",
    "data"
   ]
  },
  {
   "cell_type": "markdown",
   "metadata": {},
   "source": [
    "### DataFrame 内のデータの参照\n",
    "\n",
    "`DataFrame` は `Series` よりもデータの次元が 1 つ多いため、データの取り出し方が少し複雑になります。\n",
    "まず、特定のカラムを参照する場合には、鍵括弧 `[]` を使います。\n",
    "`Series` の時ではこれは、インデックスでしたが、`DataFrame` ではカラムなのに注意してください。\n",
    "また、列のデータが `Series` として返されることにも注意してください。"
   ]
  },
  {
   "cell_type": "code",
   "execution_count": null,
   "metadata": {},
   "outputs": [],
   "source": [
    "data = DataFrame({\"item\": [\"apple\", \"melon\"], \"price\": [100, 1000]})\n",
    "data[\"price\"]"
   ]
  },
  {
   "cell_type": "markdown",
   "metadata": {},
   "source": [
    "複数のカラムを指定する場合、鍵括弧内にカラム名の *リスト* を入れます。\n",
    "リストを入れた場合には `DataFrame` が返ってきます。"
   ]
  },
  {
   "cell_type": "code",
   "execution_count": null,
   "metadata": {},
   "outputs": [],
   "source": [
    "data = DataFrame({\n",
    "    \"item\": [\"apple\", \"melon\"],\n",
    "    \"price\": [100, 1000],\n",
    "    \"sold\": [10, 1],\n",
    "})\n",
    "data[[\"price\", \"sold\"]]"
   ]
  },
  {
   "cell_type": "markdown",
   "metadata": {},
   "source": [
    "縦ではなく横、つまりあるインデックスに対応する行のデータを取り出したい場合には、`loc` プロパティもしくは `iloc` プロパティを使います。\n",
    "`loc` プロパティでインデックスを指定すると、それに対応する行の `Series` が返されます。"
   ]
  },
  {
   "cell_type": "code",
   "execution_count": null,
   "metadata": {},
   "outputs": [],
   "source": [
    "data = DataFrame({\"item\": [\"apple\", \"melon\"], \"price\": [100, 1000]}, index=[\"A\", \"B\"])\n",
    "data.loc[\"A\"]"
   ]
  },
  {
   "cell_type": "markdown",
   "metadata": {},
   "source": [
    "さらに、表形式データでいう、ある行のある列の要素だけを取り出したい場合には、次のように `loc` プロパティでインデックスを指定してからカラム名を指定します。"
   ]
  },
  {
   "cell_type": "code",
   "execution_count": null,
   "metadata": {},
   "outputs": [],
   "source": [
    "data.loc[\"A\", \"item\"]"
   ]
  },
  {
   "cell_type": "markdown",
   "metadata": {},
   "source": [
    "### DataFrame のデータ型\n",
    "\n",
    "`DataFrame` では、各データ型はカラムごとに定義されており、インスタンス作成時に自動でデータ型を類推してくれます。\n",
    "また、各カラムのデータ型と、`DataFrame` 全体のデータ型は `dtypes` 属性 (複数形なのに注意!) で確認することができます。"
   ]
  },
  {
   "cell_type": "code",
   "execution_count": null,
   "metadata": {},
   "outputs": [],
   "source": [
    "data = DataFrame({\"item\": [\"apple\", \"melon\"], \"price\": [100, 1000]})\n",
    "data.dtypes"
   ]
  },
  {
   "cell_type": "markdown",
   "metadata": {},
   "source": [
    "## データの確認方法\n",
    "\n",
    "### `head`, `tail`: データの一部を表示\n",
    "\n",
    "データの行数、列数が多い場合、`DataFrame` や `Series` を確認すると、一部が省略された結果になります。\n",
    "例えば、以下のように適当な `DataFrame` を作成し、内容を確認してみます。\n"
   ]
  },
  {
   "cell_type": "code",
   "execution_count": null,
   "metadata": {},
   "outputs": [],
   "source": [
    "data = pd.DataFrame({\n",
    "    \"年度\": [2020, 2020, 2020, 2019, 2019],\n",
    "    \"産業\": [\"全産業\", \"製造業\", \"非製造業\", \"製造業\", \"非製造業\"],\n",
    "    \"雇用者数\": [100, 50, 30, 45, 25],\n",
    "    \"増減率\": [2.1, 1.8, 0.5, -1.2, -0.8]\n",
    "})\n",
    "data\n"
   ]
  },
  {
   "cell_type": "markdown",
   "metadata": {},
   "source": [
    "データの先頭から指定行表示する場合、`head` メソッドを用います。\n",
    "`head` メソッドは、デフォルトでは先頭 5 行を返します。\n",
    "表示行数は引数で指定可能です。"
   ]
  },
  {
   "cell_type": "code",
   "execution_count": null,
   "metadata": {},
   "outputs": [],
   "source": [
    "data.head()"
   ]
  },
  {
   "cell_type": "code",
   "execution_count": null,
   "metadata": {},
   "outputs": [],
   "source": [
    "data.head(1)"
   ]
  },
  {
   "cell_type": "markdown",
   "metadata": {},
   "source": [
    "データの最後から指定行を表示する場合、`tail` メソッドを用います。\n",
    "`tail` メソッドもデフォルトで最後の 5 行を返し、表示行数を引数で指定することも可能です。\n"
   ]
  },
  {
   "cell_type": "code",
   "execution_count": null,
   "metadata": {},
   "outputs": [],
   "source": [
    "data.tail()"
   ]
  },
  {
   "cell_type": "code",
   "execution_count": null,
   "metadata": {},
   "outputs": [],
   "source": [
    "data.tail(1)"
   ]
  },
  {
   "cell_type": "markdown",
   "metadata": {},
   "source": [
    "`pd.options.display.max_rows` を変更することで、省略なしに表示できる行数を変更することも可能です。\n",
    "デフォルトでは、これは 60 で、`pd.options.display.max_rows = 1000` とすれば、1000 行まで省略なしで表示されるようにできます。\n",
    "他の `pandas` のオプションに関しては、[ドキュメント](https://pandas.pydata.org/docs/user_guide/options.html)を見てください。\n",
    "\n",
    "### `info`: データの概要情報を取得\n",
    "\n",
    "`info` メソッドを使うと、各カラムのデータ型 (Dtype) だけでなく欠損値以外の値の数 (Non-Null Count) やデータ容量 (memory usage) などの情報を得ることができます。"
   ]
  },
  {
   "cell_type": "code",
   "execution_count": null,
   "metadata": {},
   "outputs": [],
   "source": [
    "data.info()"
   ]
  },
  {
   "cell_type": "markdown",
   "metadata": {},
   "source": [
    "### `describe`: 数値型データの記述統計量を取得\n",
    "\n",
    "`describe` メソッドを使うと、各カラムの平均や標準偏差などの記述統計量を確認することができます。\n",
    "数値型の列に対してのみ適用される点に注意してください。"
   ]
  },
  {
   "cell_type": "markdown",
   "metadata": {},
   "source": [
    "## データの操作\n",
    "\n",
    "### フィルタリング\n",
    "\n",
    "`Series` や `DataFrame` では、特定の列を参照するだけでなく、条件に合致したデータのみを取得する、フィルタリングを行うことが可能です。\n",
    "単一の条件によるフィルタリングは次のように行います。\n",
    "\n",
    "```python\n",
    "data[data[\"column\"] > value]\n",
    "```"
   ]
  },
  {
   "cell_type": "code",
   "execution_count": null,
   "metadata": {},
   "outputs": [],
   "source": [
    "data = pd.DataFrame({\n",
    "    \"product\": [\"Apple\", \"Banana\", \"Carrot\", \"Milk\", \"Beef\"],\n",
    "    \"price\": [120, 200, 150, 200, 500],\n",
    "    \"in_stock\": [True, True, True, False, True],\n",
    "    \"category\": [\"fruit\", \"fruit\", \"vegetable\", \"dairy\", \"meat\"]\n",
    "})\n",
    "data"
   ]
  },
  {
   "cell_type": "markdown",
   "metadata": {},
   "source": [
    "価格が 150 円より高い商品を選択するには次のようにします。"
   ]
  },
  {
   "cell_type": "code",
   "execution_count": null,
   "metadata": {},
   "outputs": [],
   "source": [
    "data[data[\"price\"] > 150]"
   ]
  },
  {
   "cell_type": "markdown",
   "metadata": {},
   "source": [
    "在庫がある商品データだけを取得する場合は次のようにします。"
   ]
  },
  {
   "cell_type": "code",
   "execution_count": null,
   "metadata": {},
   "outputs": [],
   "source": [
    "data[data[\"in_stock\"]]"
   ]
  },
  {
   "cell_type": "markdown",
   "metadata": {},
   "source": [
    "商品カテゴリーが果物のデータを選択してみます。"
   ]
  },
  {
   "cell_type": "code",
   "execution_count": null,
   "metadata": {},
   "outputs": [],
   "source": [
    "data[data[\"category\"] == \"fruit\"]"
   ]
  },
  {
   "cell_type": "markdown",
   "metadata": {},
   "source": [
    "### 新しい列の追加と削除\n",
    "\n",
    "`DataFrame` には、新しいデータ列を追加したり、不要な列を削除したりする機能があります。\n",
    "これにより、データの加工や整形が容易になります。\n",
    "\n",
    "#### 新しい列の追加\n",
    "\n",
    "新しい列を追加するには、以下のように列名を指定して値を代入します。\n",
    "\n",
    "```python\n",
    "data['new_column'] = value\n",
    "```"
   ]
  },
  {
   "cell_type": "code",
   "execution_count": null,
   "metadata": {},
   "outputs": [],
   "source": [
    "data[\"price_with_tax\"] = data[\"price\"] * 1.1\n",
    "data"
   ]
  },
  {
   "cell_type": "markdown",
   "metadata": {},
   "source": [
    "すべての商品に「日本」という原産国を表す列を追加する例も見てみましょう。"
   ]
  },
  {
   "cell_type": "code",
   "execution_count": null,
   "metadata": {},
   "outputs": [],
   "source": [
    "data[\"origin\"] = \"Japan\"\n",
    "data"
   ]
  },
  {
   "cell_type": "markdown",
   "metadata": {},
   "source": [
    "### 列の削除\n",
    "\n",
    "列を削除するには、`drop` メソッドを使用し、`columns` キーワードで削除したい列名を指定します。"
   ]
  },
  {
   "cell_type": "code",
   "execution_count": null,
   "metadata": {},
   "outputs": [],
   "source": [
    "# 列の削除例\n",
    "data.drop(columns=\"in_stock\")"
   ]
  },
  {
   "cell_type": "markdown",
   "metadata": {},
   "source": [
    "`drop` メソッドはデフォルトで新しい `DataFrame` を返しますが、元の `DataFrame` は変更しません。\n",
    "元のデータに変更を適用する場合は、`inplace=True` を引数に追加します。\n",
    "\n",
    "### 行の削除\n",
    "\n",
    "特定の行を削除するには、行のインデックスを指定します。\n",
    "以下の例では、インデックス `2` の行を削除します。"
   ]
  },
  {
   "cell_type": "code",
   "execution_count": null,
   "metadata": {},
   "outputs": [],
   "source": [
    "# 行の削除例\n",
    "data.drop(2)"
   ]
  },
  {
   "cell_type": "markdown",
   "metadata": {},
   "source": [
    "`axis` キーワードを使用することで、列 (`axis=1`) または行 (`axis=0`) を指定して削除することも可能です。\n",
    "ただし、`columns` と `index` キーワードを使用する方法が直感的で推奨されます。\n",
    "\n",
    "## 基本的なデータの集計\n",
    "\n",
    "データの集計は、データ分析において重要なステップの一つです。\n",
    "`pandas` では、データをグループ化し、集計メソッドを適用することで、データセットの要約や分析を行うことができます。\n",
    "\n",
    "### 集計メソッドの使用\n",
    "\n",
    "`pandas` には、データを集計するためのいくつかのメソッドが用意されています。\n",
    "これらのメソッドを使用することで、合計、平均、最大値、最小値などの計算が可能です。\n",
    "\n",
    "- `.sum()`: 合計を計算\n",
    "- `.mean()`: 平均を計算\n",
    "- `.max()`: 最大値を計算\n",
    "- `.min()`: 最小値を計算\n",
    "\n",
    "これらのメソッドは、`DataFrame` の列に直接適用することも、`groupby` メソッドを使って特定のカテゴリごとに適用することもできます。\n",
    "以下に例を示します。\n"
   ]
  },
  {
   "cell_type": "code",
   "execution_count": null,
   "metadata": {},
   "outputs": [],
   "source": [
    "# 全体の価格の平均を計算\n",
    "data[\"price\"].mean()"
   ]
  },
  {
   "cell_type": "markdown",
   "metadata": {},
   "source": [
    "### グループ別集計の例\n",
    "\n",
    "カテゴリごとに価格の平均を計算する例を示します。\n",
    "まず、`groupby` メソッドを使ってカテゴリでグループ化します。"
   ]
  },
  {
   "cell_type": "code",
   "execution_count": null,
   "metadata": {},
   "outputs": [],
   "source": [
    "# グループ別の価格の平均を計算\n",
    "data.groupby(\"category\")[\"price\"].mean()"
   ]
  },
  {
   "cell_type": "markdown",
   "metadata": {},
   "source": [
    "この結果から、各カテゴリに属する商品の平均価格がわかります。\n",
    "例えば、フルーツの平均価格は 160 円、肉類の平均価格は 500 円です。\n",
    "\n",
    "このように、`pandas` の集計関数を使用することで、データセットの要約や傾向を把握することが可能です。"
   ]
  }
 ],
 "metadata": {
  "language_info": {
   "name": "python"
  }
 },
 "nbformat": 4,
 "nbformat_minor": 2
}
