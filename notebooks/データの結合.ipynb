{
 "cells": [
  {
   "cell_type": "markdown",
   "metadata": {},
   "source": [
    "# データの結合\n",
    "\n",
    "分析用のデータを作る際に、複数のデータソースを組み合わる場合があります。\n",
    "例えば、1 年毎のデータに分かれているものを複数年分のデータに結合することや、アンケートデータと学校の成績のデータを同じ個人で結合したりします。\n",
    "\n",
    "`pandas` では [`concat`](https://pandas.pydata.org/docs/reference/api/pandas.concat.html) 関数と [`merge`](https://pandas.pydata.org/docs/reference/api/pandas.merge.html) 関数などを用いてデータの結合をします。\n",
    "\n",
    "データの長さ (インデックス) を増やすような結合を縦方向に結合すると呼んだりします。\n",
    "縦の結合には、`concat` 関数を用います。\n",
    "\n",
    "`concat` 関数は結合したい `Series` または `DataFrame` のリストを引数に入れ、`axis` キーワードで結合の方向を指定します。\n",
    "デフォルトでは縦方向です。\n"
   ]
  },
  {
   "cell_type": "code",
   "execution_count": 1,
   "metadata": {},
   "outputs": [],
   "source": [
    "import pandas as pd"
   ]
  },
  {
   "cell_type": "code",
   "execution_count": 2,
   "metadata": {},
   "outputs": [
    {
     "name": "stdout",
     "output_type": "stream",
     "text": [
      "   A  B\n",
      "0  1  4\n",
      "1  2  5\n",
      "2  3  6\n",
      "--------------------\n",
      "   A   C\n",
      "0  7  10\n",
      "1  8  11\n",
      "2  9  12\n",
      "--------------------\n",
      "   A    B     C\n",
      "0  1  4.0   NaN\n",
      "1  2  5.0   NaN\n",
      "2  3  6.0   NaN\n",
      "0  7  NaN  10.0\n",
      "1  8  NaN  11.0\n",
      "2  9  NaN  12.0\n"
     ]
    }
   ],
   "source": [
    "df1 = pd.DataFrame({\"A\": [1, 2, 3], \"B\": [4, 5, 6]})\n",
    "print(df1)\n",
    "print(\"-\" * 20)\n",
    "df2 = pd.DataFrame({\"A\": [7, 8, 9], \"C\": [10, 11, 12]})\n",
    "print(df2)\n",
    "print(\"-\" * 20)\n",
    "print(pd.concat([df1, df2])) # 縦方向の結合"
   ]
  },
  {
   "cell_type": "markdown",
   "metadata": {},
   "source": [
    "`df1` の下に `df2` がつけ足されていることがわかります。\n",
    "また、`df1` にないカラム `C`、`df2` にないカラム `B` はそれぞれ、`NaN` が足されています。\n",
    "\n",
    "なお、縦方向に結合した場合、インデックスが重複する場合があります。\n",
    "インデックスを新たに振りなおすには、`reset_index` メソッドを用います。\n",
    "\n",
    "データにカラムを足すような結合は横方向の結合と呼びます。\n",
    "`concat` でも `axis = \"columns\"` と指定することでこれが可能です。\n",
    "インデックスが同じもの同士でデータが結合されます。\n",
    "\n",
    "しかし、以下のように、カラムの重複が起こることもあります。"
   ]
  },
  {
   "cell_type": "code",
   "execution_count": 3,
   "metadata": {},
   "outputs": [
    {
     "data": {
      "text/html": [
       "<div>\n",
       "<style scoped>\n",
       "    .dataframe tbody tr th:only-of-type {\n",
       "        vertical-align: middle;\n",
       "    }\n",
       "\n",
       "    .dataframe tbody tr th {\n",
       "        vertical-align: top;\n",
       "    }\n",
       "\n",
       "    .dataframe thead th {\n",
       "        text-align: right;\n",
       "    }\n",
       "</style>\n",
       "<table border=\"1\" class=\"dataframe\">\n",
       "  <thead>\n",
       "    <tr style=\"text-align: right;\">\n",
       "      <th></th>\n",
       "      <th>A</th>\n",
       "      <th>B</th>\n",
       "      <th>A</th>\n",
       "      <th>C</th>\n",
       "    </tr>\n",
       "  </thead>\n",
       "  <tbody>\n",
       "    <tr>\n",
       "      <th>0</th>\n",
       "      <td>1</td>\n",
       "      <td>4</td>\n",
       "      <td>7</td>\n",
       "      <td>10</td>\n",
       "    </tr>\n",
       "    <tr>\n",
       "      <th>1</th>\n",
       "      <td>2</td>\n",
       "      <td>5</td>\n",
       "      <td>8</td>\n",
       "      <td>11</td>\n",
       "    </tr>\n",
       "    <tr>\n",
       "      <th>2</th>\n",
       "      <td>3</td>\n",
       "      <td>6</td>\n",
       "      <td>9</td>\n",
       "      <td>12</td>\n",
       "    </tr>\n",
       "  </tbody>\n",
       "</table>\n",
       "</div>"
      ],
      "text/plain": [
       "   A  B  A   C\n",
       "0  1  4  7  10\n",
       "1  2  5  8  11\n",
       "2  3  6  9  12"
      ]
     },
     "execution_count": 3,
     "metadata": {},
     "output_type": "execute_result"
    }
   ],
   "source": [
    "pd.concat([df1, df2], axis=\"columns\") # 横方向の結合"
   ]
  },
  {
   "cell_type": "markdown",
   "metadata": {},
   "source": [
    "横方向の結合では、基本的に `merge` 関数または `join` メソッドを用います。\n",
    "`merge` 関数には、結合する 2 つのデータを引数に入れます。\n",
    "このとき、1 番目の引数に入れたものを左、2 番目の引数に入れたものを右として考えます。\n",
    "\n",
    "`merge` では結合の種類、結合に使う変数 (キー) を指定します。\n",
    "指定したキーの値が同じもの同士が、データとして結合されます。\n",
    "キーのカラム名が同じ場合、`on` キーワードで指定します。\n",
    "異なる場合は、それぞれ `left_on`, `right_on` キーワードで左、右のデータのキーとなるカラム名を指定します。\n",
    "\n",
    "以下のデータを見ると、`df1` では `key` というカラムでは `A`, `B`, `C` があり、`df2` では `B`, `C`, `D` があり、一部異なっていることが分かります。"
   ]
  },
  {
   "cell_type": "code",
   "execution_count": null,
   "metadata": {},
   "outputs": [],
   "source": [
    "df1 = pd.DataFrame({\"key\": [\"A\", \"B\", \"C\"], \"value1\": [1, 2, 3]})\n",
    "print(df1)\n",
    "print(\"-\" * 20)\n",
    "df2 = pd.DataFrame({\"key\": [\"B\", \"C\", \"D\"], \"value2\": [4, 5, 6]})\n",
    "print(df2)\n",
    "print(\"-\" * 20)"
   ]
  },
  {
   "cell_type": "markdown",
   "metadata": {},
   "source": []
  },
  {
   "cell_type": "code",
   "execution_count": null,
   "metadata": {},
   "outputs": [],
   "source": [
    "\n",
    "\n",
    "```py\n",
    "# サンプルデータの作成\n",
    "\n",
    "df1\n",
    "  key  value1\n",
    "0   A      1\n",
    "1   B      2\n",
    "2   C      3\n",
    "\n",
    "\n",
    "df2\n",
    "  key  value2\n",
    "0   B      4\n",
    "1   C      5\n",
    "2   D      6\n",
    "```\n",
    "\n",
    "結合には 4 種類あり、内部結合、外部結合、左結合、右結合があります。\n",
    "`merge` 関数では `how` キーワードで結合の種類を指定します。\n",
    "デフォルトでは内部結合が選択されます。\n",
    "\n",
    "内部 (inner) 結合は、キーが合致したもののみを結果として返します。\n",
    "したがって、両者のキーで合致しない、`A`, `D` は除外されます。\n",
    "\n",
    "```py\n",
    "pd.merge(df1, df2, on = \"key\") # 内部結合\n",
    "  key  value1  value2\n",
    "0   B       2       4\n",
    "1   C       3       5\n",
    "```\n",
    "\n",
    "外部 (outer) 結合は、キーが合致しないものも結果として返します。\n",
    "したがって、両者のキーで合致しない `A`, `D` も結果に含みますが、`A`, `D` では合致しない部分のデータは欠損値になります。\n",
    "\n",
    "```py\n",
    "pd.merge(df1, df2, on = \"key\", how = \"outer\") # 外部結合\n",
    "  key  value1  value2\n",
    "0   A     1.0     NaN\n",
    "1   B     2.0     4.0\n",
    "2   C     3.0     5.0\n",
    "3   D     NaN     6.0\n",
    "```\n",
    "\n",
    "左 (left) 結合は、左のデータを全て残し、キーが合致しないものも結果として返します。\n",
    "したがって、左のキーに合致しない `D` は除外されますが、右のキーに合致しない `A` は残ります。\n",
    "\n",
    "```py\n",
    "pd.merge(df1, df2, on = \"key\", how = \"left\")\n",
    "  key  value1  value2\n",
    "0   A       1     NaN\n",
    "1   B       2     4.0\n",
    "2   C       3     5.0\n",
    "```\n",
    "\n",
    "右 (right) 結合は左結合の逆です。\n",
    "\n",
    "```py\n",
    "pd.merge(df1, df2, on = \"key\", how = \"right\")\n",
    "  key  value1  value2\n",
    "0   B     2.0       4\n",
    "1   C     3.0       5\n",
    "2   D     NaN       6\n",
    "```"
   ]
  }
 ],
 "metadata": {
  "kernelspec": {
   "display_name": ".venv",
   "language": "python",
   "name": "python3"
  },
  "language_info": {
   "codemirror_mode": {
    "name": "ipython",
    "version": 3
   },
   "file_extension": ".py",
   "mimetype": "text/x-python",
   "name": "python",
   "nbconvert_exporter": "python",
   "pygments_lexer": "ipython3",
   "version": "3.11.10"
  }
 },
 "nbformat": 4,
 "nbformat_minor": 2
}
