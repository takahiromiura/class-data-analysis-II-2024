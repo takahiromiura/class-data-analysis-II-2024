{
 "cells": [
  {
   "cell_type": "markdown",
   "metadata": {},
   "source": [
    "# 文字列・時間型操作\n",
    "\n",
    "ここでは、`pandas` を使った文字列データや時間データの取り扱いについて学びます。"
   ]
  },
  {
   "cell_type": "code",
   "execution_count": 1,
   "metadata": {},
   "outputs": [],
   "source": [
    "import pandas as pd\n",
    "from pandas import DataFrame, Series"
   ]
  },
  {
   "cell_type": "markdown",
   "metadata": {},
   "source": [
    "## 文字列操作\n",
    "\n",
    "時には、欲しい数値が文字列の一部に入っている場合があります。\n",
    "以下は、サービスの評価を 1 ~ 5 段階で評価してもらった顧客満足度データを表しています。\n",
    "サービス評価のデータは、尺度の数値とカテゴリー名がくっついたものになっています。\n",
    "データとしては何を示しているか分かりやすいですが、満足度の平均値を計算するには数値を取り出す必要があります。"
   ]
  },
  {
   "cell_type": "code",
   "execution_count": 2,
   "metadata": {},
   "outputs": [
    {
     "data": {
      "text/html": [
       "<div>\n",
       "<style scoped>\n",
       "    .dataframe tbody tr th:only-of-type {\n",
       "        vertical-align: middle;\n",
       "    }\n",
       "\n",
       "    .dataframe tbody tr th {\n",
       "        vertical-align: top;\n",
       "    }\n",
       "\n",
       "    .dataframe thead th {\n",
       "        text-align: right;\n",
       "    }\n",
       "</style>\n",
       "<table border=\"1\" class=\"dataframe\">\n",
       "  <thead>\n",
       "    <tr style=\"text-align: right;\">\n",
       "      <th></th>\n",
       "      <th>顧客ID</th>\n",
       "      <th>サービス評価</th>\n",
       "    </tr>\n",
       "  </thead>\n",
       "  <tbody>\n",
       "    <tr>\n",
       "      <th>0</th>\n",
       "      <td>101</td>\n",
       "      <td>1.とても悪かった</td>\n",
       "    </tr>\n",
       "    <tr>\n",
       "      <th>1</th>\n",
       "      <td>102</td>\n",
       "      <td>2.悪かった</td>\n",
       "    </tr>\n",
       "    <tr>\n",
       "      <th>2</th>\n",
       "      <td>103</td>\n",
       "      <td>3.普通</td>\n",
       "    </tr>\n",
       "    <tr>\n",
       "      <th>3</th>\n",
       "      <td>104</td>\n",
       "      <td>4.良かった</td>\n",
       "    </tr>\n",
       "    <tr>\n",
       "      <th>4</th>\n",
       "      <td>105</td>\n",
       "      <td>5.とても良かった</td>\n",
       "    </tr>\n",
       "  </tbody>\n",
       "</table>\n",
       "</div>"
      ],
      "text/plain": [
       "   顧客ID     サービス評価\n",
       "0   101  1.とても悪かった\n",
       "1   102     2.悪かった\n",
       "2   103       3.普通\n",
       "3   104     4.良かった\n",
       "4   105  5.とても良かった"
      ]
     },
     "execution_count": 2,
     "metadata": {},
     "output_type": "execute_result"
    }
   ],
   "source": [
    "data = DataFrame({\n",
    "    '顧客ID': [101, 102, 103, 104, 105],\n",
    "    'サービス評価': ['1.とても悪かった', '2.悪かった', '3.普通', '4.良かった', '5.とても良かった'],\n",
    "}) # アンケートデータの例（尺度の数値と尺度のカテゴリー名がくっついている）\n",
    "data"
   ]
  },
  {
   "cell_type": "markdown",
   "metadata": {},
   "source": [
    "`Series` の `str` アクセッサーを使うと、文字列に対する高度な操作が可能です。\n",
    "`str` アクセッサーは、`Series` オブジェクトに対して `.str` をつけることで、使用可能になります。\n",
    "`data` が `Series` オブジェクトとすると、`data.str.<method>` で文字列操作のメソッドが使えます。\n",
    "\n",
    "文字列操作の機能を使う前に、まずはデータのパターンを読み解きます。\n",
    "サービス評価の値は、`数値.カテゴリー名` というパターンで表記されています。\n",
    "したがって、いくつかの方策が考えられるはずです。\n",
    "\n",
    "1. ドット `.` で文字列をリストに分割し、`0` 番目の要素を取り出す\n",
    "2. 1 桁の数値しかないので、最初の文字だけを切り出す\n",
    "3. 文字列の先頭から、数値の部分だけを取り出す\n",
    "4. 数値以外の文字を空文字 `\"\"` にする\n",
    "\n",
    "ここでは、最初の方法でやってみます。\n",
    "文字列のメソッドと同じように、`pandas` でも [`split`](https://pandas.pydata.org/docs/reference/api/pandas.Series.str.split.html) メソッドでデータの文字列を分割できます。\n",
    "デフォルトだと、文字列を区切り文字で分割したリストの `Series` が返ってきます。"
   ]
  },
  {
   "cell_type": "code",
   "execution_count": 3,
   "metadata": {},
   "outputs": [
    {
     "data": {
      "text/plain": [
       "0    [1, とても悪かった]\n",
       "1       [2, 悪かった]\n",
       "2         [3, 普通]\n",
       "3       [4, 良かった]\n",
       "4    [5, とても良かった]\n",
       "Name: サービス評価, dtype: object"
      ]
     },
     "execution_count": 3,
     "metadata": {},
     "output_type": "execute_result"
    }
   ],
   "source": [
    "data[\"サービス評価\"].str.split(\".\")  # . で文字列を分割"
   ]
  },
  {
   "cell_type": "markdown",
   "metadata": {},
   "source": [
    "`str` アクセッサーを使って、`i` 番目の要素を取り出すことができます。\n",
    "最初の要素を取り出すには、`str[0]` です。\n",
    "次のように組み合わせることで、求めていた数値が取り出せました。"
   ]
  },
  {
   "cell_type": "code",
   "execution_count": 4,
   "metadata": {},
   "outputs": [
    {
     "data": {
      "text/plain": [
       "0    1\n",
       "1    2\n",
       "2    3\n",
       "3    4\n",
       "4    5\n",
       "Name: サービス評価, dtype: object"
      ]
     },
     "execution_count": 4,
     "metadata": {},
     "output_type": "execute_result"
    }
   ],
   "source": [
    "data[\"サービス評価\"].str.split(\".\").str[0]"
   ]
  },
  {
   "cell_type": "markdown",
   "metadata": {},
   "source": [
    "ちなみに、他の方法でやる場合は以下の方法で可能です。\n",
    "\n",
    "2. `str[0]` で最初の文字をとる\n",
    "3. `extract` メソッドでパターンにマッチする要素 (数値) を取り出す\n",
    "4. `replace` メソッドでパターンにマッチする要素 (数値以外) を空文字 `\"\"` にする\n",
    "\n",
    "また、ここでは深く触れませんが、パターンを示すには正規表現 (regular expression) というものを用いることで、より広い範囲のパターンを示すことができます。\n",
    "例えば、正規表現では任意の数値を `\\d` で示せます。\n",
    "`extract(r\"(\\d))` とすると、先頭に数値がある場合に、それを取り出します。"
   ]
  },
  {
   "cell_type": "markdown",
   "metadata": {},
   "source": [
    "## パターンマッチング\n",
    "\n",
    "パターンマッチングとは、特定の数値・文字列のパターンを検出するものです。\n",
    "また、`和歌山県和歌山市` という文字列から、`県` の前の文字列 (`和歌山`) を抽出することもできます。\n",
    "\n",
    "例えば次のような商品の `Series` があるとします。"
   ]
  },
  {
   "cell_type": "code",
   "execution_count": 6,
   "metadata": {},
   "outputs": [
    {
     "data": {
      "text/plain": [
       "0                ポテトサラダ\n",
       "1                 じゃがいも\n",
       "2    カルビー ポテトチップス うすしお味\n",
       "3      湖池屋 ポテトチップス のり塩味\n",
       "4                 海藻サラダ\n",
       "dtype: object"
      ]
     },
     "execution_count": 6,
     "metadata": {},
     "output_type": "execute_result"
    }
   ],
   "source": [
    "products = Series([\n",
    "  \"ポテトサラダ\",\n",
    "  \"じゃがいも\",\n",
    "  \"カルビー ポテトチップス うすしお味\",\n",
    "  \"湖池屋 ポテトチップス のり塩味\", \n",
    "  \"海藻サラダ\",\n",
    "])\n",
    "products"
   ]
  },
  {
   "cell_type": "markdown",
   "metadata": {},
   "source": [
    "パターンを検出するメソッドは、`fullmatch`, `match`, `contains` などがあります。\n",
    "これらは、指定したパターンに一致している文字列の時は `True`、そうでないときは `False` を返します。\n",
    "メソッドによって、若干の差異があります。\n",
    "\n",
    "- fullmatch: 指定したパターンと文字列が完全に一致した場合のみ `True` を返す\n",
    "- match: 指定したパターンと先頭の文字列が一致した場合に `True` を返す\n",
    "- contains: 指定したパターンを文字列が含む場合に `True` を返す\n",
    "\n",
    "先ほどのデータを使って実際に試してみます。\n",
    "まずは、ポテトという文字列とマッチさせます。"
   ]
  },
  {
   "cell_type": "code",
   "execution_count": 7,
   "metadata": {},
   "outputs": [
    {
     "data": {
      "text/plain": [
       "0    False\n",
       "1    False\n",
       "2    False\n",
       "3    False\n",
       "4    False\n",
       "dtype: bool"
      ]
     },
     "execution_count": 7,
     "metadata": {},
     "output_type": "execute_result"
    }
   ],
   "source": [
    "products.str.fullmatch(\"ポテト\")"
   ]
  },
  {
   "cell_type": "code",
   "execution_count": 8,
   "metadata": {},
   "outputs": [
    {
     "data": {
      "text/plain": [
       "0     True\n",
       "1    False\n",
       "2    False\n",
       "3    False\n",
       "4    False\n",
       "dtype: bool"
      ]
     },
     "execution_count": 8,
     "metadata": {},
     "output_type": "execute_result"
    }
   ],
   "source": [
    "products.str.match(\"ポテト\")"
   ]
  },
  {
   "cell_type": "code",
   "execution_count": 9,
   "metadata": {},
   "outputs": [
    {
     "data": {
      "text/plain": [
       "0     True\n",
       "1    False\n",
       "2     True\n",
       "3     True\n",
       "4    False\n",
       "dtype: bool"
      ]
     },
     "execution_count": 9,
     "metadata": {},
     "output_type": "execute_result"
    }
   ],
   "source": [
    "products.str.contains(\"ポテト\")"
   ]
  },
  {
   "cell_type": "markdown",
   "metadata": {},
   "source": [
    "`fullmatch` では、ポテトという商品名はないため、全てが `False` になっています。\n",
    "\n",
    "`match` ではポテトサラダは先頭に「ポテト」の文字列があるため `True` になっていますが、ポテトチップスはその前にブランド名があるため `False` が返っています。\n",
    "\n",
    "`contains` はポテトチップスも `True` を返します。"
   ]
  },
  {
   "cell_type": "markdown",
   "metadata": {},
   "source": [
    "クイズ\n",
    "\n",
    "- `fullmatch` を使って「ポテトサラダ」という文字列パターンとマッチしてください\n",
    "- ポテトチップスだけを検出してみてください\n",
    "- じゃがいもに関連する商品全てを検出してください (つまり、海藻サラダ以外)"
   ]
  },
  {
   "cell_type": "markdown",
   "metadata": {},
   "source": [
    "## 日付・時間型データの操作\n",
    "\n",
    "ユーザーの登録日時や購入時間などでは、時間のデータ型 `datetime64` を用いるのが便利です。"
   ]
  },
  {
   "cell_type": "code",
   "execution_count": 10,
   "metadata": {},
   "outputs": [
    {
     "data": {
      "text/plain": [
       "0    2023-01-01 10:00\n",
       "1    2023-01-05 15:30\n",
       "2    2023-02-01 11:00\n",
       "3    2023-02-05 18:00\n",
       "4    2023-03-01 09:30\n",
       "Name: 購入日時, dtype: object"
      ]
     },
     "execution_count": 10,
     "metadata": {},
     "output_type": "execute_result"
    }
   ],
   "source": [
    "sales_data = DataFrame({\n",
    "    '顧客ID': [1, 2, 1, 3, 2],\n",
    "    '購入日時': ['2023-01-01 10:00', '2023-01-05 15:30', \n",
    "                 '2023-02-01 11:00', '2023-02-05 18:00', \n",
    "                 '2023-03-01 09:30'],\n",
    "    '購入金額': [1000, 1500, 2000, 2500, 3000]\n",
    "})\n",
    "sales_data[\"購入日時\"]  # object 型"
   ]
  },
  {
   "cell_type": "markdown",
   "metadata": {},
   "source": [
    "`datetime64` 型の `Series` の作成は、`pandas` の `to_datetime` 関数を使うことで可能です。"
   ]
  },
  {
   "cell_type": "code",
   "execution_count": 11,
   "metadata": {},
   "outputs": [
    {
     "data": {
      "text/plain": [
       "0   2023-01-01 10:00:00\n",
       "1   2023-01-05 15:30:00\n",
       "2   2023-02-01 11:00:00\n",
       "3   2023-02-05 18:00:00\n",
       "4   2023-03-01 09:30:00\n",
       "Name: 購入日時, dtype: datetime64[ns]"
      ]
     },
     "execution_count": 11,
     "metadata": {},
     "output_type": "execute_result"
    }
   ],
   "source": [
    "sales_data[\"購入日時\"] = pd.to_datetime(sales_data[\"購入日時\"])  # datetime64 型に変換\n",
    "sales_data[\"購入日時\"]"
   ]
  },
  {
   "cell_type": "markdown",
   "metadata": {},
   "source": [
    "`dt` アクセッサーを使うことで、年、月、日などの情報を取り出すことができます。"
   ]
  },
  {
   "cell_type": "code",
   "execution_count": 12,
   "metadata": {},
   "outputs": [
    {
     "data": {
      "text/plain": [
       "0    2023\n",
       "1    2023\n",
       "2    2023\n",
       "3    2023\n",
       "4    2023\n",
       "Name: 購入日時, dtype: int32"
      ]
     },
     "execution_count": 12,
     "metadata": {},
     "output_type": "execute_result"
    }
   ],
   "source": [
    "sales_data[\"購入日時\"].dt.year  # 年を取得"
   ]
  },
  {
   "cell_type": "code",
   "execution_count": 13,
   "metadata": {},
   "outputs": [
    {
     "data": {
      "text/plain": [
       "0    6\n",
       "1    3\n",
       "2    2\n",
       "3    6\n",
       "4    2\n",
       "Name: 購入日時, dtype: int32"
      ]
     },
     "execution_count": 17,
     "metadata": {},
     "output_type": "execute_result"
    }
   ],
   "source": [
    "sales_data[\"購入日時\"].dt.day_of_week  # 曜日の数字 "
   ]
  },
  {
   "cell_type": "markdown",
   "metadata": {},
   "source": [
    "曜日の数字は、月曜 (0) から始まり、日曜 (6) で終わります。\n",
    "\n",
    "https://pandas.pydata.org/docs/reference/api/pandas.Series.dt.day_of_week.html"
   ]
  },
  {
   "cell_type": "markdown",
   "metadata": {},
   "source": [
    "また、[`resample`](https://pandas.pydata.org/docs/reference/api/pandas.Series.resample.html) メソッドを使うと、指定した時間の単位でデータを集計してくれます。\n",
    "`groupby` の時間版だと思ってください。\n",
    "\n",
    "例えば、日次平均、年次平均を計算することが可能です。\n",
    "`resample` メソッドでは、集計する期間を指定します。\n",
    "`\"M\"` は月単位を表し、`\"Y\"` は年単位を表します。\n",
    "index が時間ではない場合、`on` キーワードで集計に用いる時間のカラム名を指定します。\n",
    "\n",
    "`resample` で集計した後に、集計メソッドを適用します。"
   ]
  },
  {
   "cell_type": "code",
   "execution_count": 14,
   "metadata": {},
   "outputs": [
    {
     "data": {
      "text/html": [
       "<div>\n",
       "<style scoped>\n",
       "    .dataframe tbody tr th:only-of-type {\n",
       "        vertical-align: middle;\n",
       "    }\n",
       "\n",
       "    .dataframe tbody tr th {\n",
       "        vertical-align: top;\n",
       "    }\n",
       "\n",
       "    .dataframe thead th {\n",
       "        text-align: right;\n",
       "    }\n",
       "</style>\n",
       "<table border=\"1\" class=\"dataframe\">\n",
       "  <thead>\n",
       "    <tr style=\"text-align: right;\">\n",
       "      <th></th>\n",
       "      <th>顧客ID</th>\n",
       "      <th>購入日時</th>\n",
       "      <th>購入金額</th>\n",
       "    </tr>\n",
       "  </thead>\n",
       "  <tbody>\n",
       "    <tr>\n",
       "      <th>0</th>\n",
       "      <td>1</td>\n",
       "      <td>2023-01-01 10:00:00</td>\n",
       "      <td>1000</td>\n",
       "    </tr>\n",
       "    <tr>\n",
       "      <th>1</th>\n",
       "      <td>2</td>\n",
       "      <td>2023-01-05 15:30:00</td>\n",
       "      <td>1500</td>\n",
       "    </tr>\n",
       "    <tr>\n",
       "      <th>2</th>\n",
       "      <td>1</td>\n",
       "      <td>2023-02-01 11:00:00</td>\n",
       "      <td>2000</td>\n",
       "    </tr>\n",
       "    <tr>\n",
       "      <th>3</th>\n",
       "      <td>3</td>\n",
       "      <td>2023-02-05 18:00:00</td>\n",
       "      <td>2500</td>\n",
       "    </tr>\n",
       "    <tr>\n",
       "      <th>4</th>\n",
       "      <td>2</td>\n",
       "      <td>2023-03-01 09:30:00</td>\n",
       "      <td>3000</td>\n",
       "    </tr>\n",
       "  </tbody>\n",
       "</table>\n",
       "</div>"
      ],
      "text/plain": [
       "   顧客ID                購入日時  購入金額\n",
       "0     1 2023-01-01 10:00:00  1000\n",
       "1     2 2023-01-05 15:30:00  1500\n",
       "2     1 2023-02-01 11:00:00  2000\n",
       "3     3 2023-02-05 18:00:00  2500\n",
       "4     2 2023-03-01 09:30:00  3000"
      ]
     },
     "execution_count": 14,
     "metadata": {},
     "output_type": "execute_result"
    }
   ],
   "source": [
    "sales_data"
   ]
  },
  {
   "cell_type": "code",
   "execution_count": 18,
   "metadata": {},
   "outputs": [
    {
     "data": {
      "text/html": [
       "<div>\n",
       "<style scoped>\n",
       "    .dataframe tbody tr th:only-of-type {\n",
       "        vertical-align: middle;\n",
       "    }\n",
       "\n",
       "    .dataframe tbody tr th {\n",
       "        vertical-align: top;\n",
       "    }\n",
       "\n",
       "    .dataframe thead th {\n",
       "        text-align: right;\n",
       "    }\n",
       "</style>\n",
       "<table border=\"1\" class=\"dataframe\">\n",
       "  <thead>\n",
       "    <tr style=\"text-align: right;\">\n",
       "      <th></th>\n",
       "      <th>顧客ID</th>\n",
       "      <th>購入金額</th>\n",
       "    </tr>\n",
       "    <tr>\n",
       "      <th>購入日時</th>\n",
       "      <th></th>\n",
       "      <th></th>\n",
       "    </tr>\n",
       "  </thead>\n",
       "  <tbody>\n",
       "    <tr>\n",
       "      <th>2023-01-31</th>\n",
       "      <td>1.5</td>\n",
       "      <td>1250.0</td>\n",
       "    </tr>\n",
       "    <tr>\n",
       "      <th>2023-02-28</th>\n",
       "      <td>2.0</td>\n",
       "      <td>2250.0</td>\n",
       "    </tr>\n",
       "    <tr>\n",
       "      <th>2023-03-31</th>\n",
       "      <td>2.0</td>\n",
       "      <td>3000.0</td>\n",
       "    </tr>\n",
       "  </tbody>\n",
       "</table>\n",
       "</div>"
      ],
      "text/plain": [
       "            顧客ID    購入金額\n",
       "購入日時                    \n",
       "2023-01-31   1.5  1250.0\n",
       "2023-02-28   2.0  2250.0\n",
       "2023-03-31   2.0  3000.0"
      ]
     },
     "execution_count": 18,
     "metadata": {},
     "output_type": "execute_result"
    }
   ],
   "source": [
    "sales_data.resample(\"ME\", on = \"購入日時\").mean() # 月次平均"
   ]
  },
  {
   "cell_type": "code",
   "execution_count": 19,
   "metadata": {},
   "outputs": [
    {
     "data": {
      "text/html": [
       "<div>\n",
       "<style scoped>\n",
       "    .dataframe tbody tr th:only-of-type {\n",
       "        vertical-align: middle;\n",
       "    }\n",
       "\n",
       "    .dataframe tbody tr th {\n",
       "        vertical-align: top;\n",
       "    }\n",
       "\n",
       "    .dataframe thead th {\n",
       "        text-align: right;\n",
       "    }\n",
       "</style>\n",
       "<table border=\"1\" class=\"dataframe\">\n",
       "  <thead>\n",
       "    <tr style=\"text-align: right;\">\n",
       "      <th></th>\n",
       "      <th>顧客ID</th>\n",
       "      <th>購入金額</th>\n",
       "    </tr>\n",
       "    <tr>\n",
       "      <th>購入日時</th>\n",
       "      <th></th>\n",
       "      <th></th>\n",
       "    </tr>\n",
       "  </thead>\n",
       "  <tbody>\n",
       "    <tr>\n",
       "      <th>2023-12-31</th>\n",
       "      <td>1.8</td>\n",
       "      <td>2000.0</td>\n",
       "    </tr>\n",
       "  </tbody>\n",
       "</table>\n",
       "</div>"
      ],
      "text/plain": [
       "            顧客ID    購入金額\n",
       "購入日時                    \n",
       "2023-12-31   1.8  2000.0"
      ]
     },
     "execution_count": 19,
     "metadata": {},
     "output_type": "execute_result"
    }
   ],
   "source": [
    "sales_data.resample(\"YE\", on=\"購入日時\").mean()  # 年次平均"
   ]
  },
  {
   "cell_type": "markdown",
   "metadata": {},
   "source": [
    "さらに、`\"5Min\"` とすれば 5 分毎に集計するなど、柔軟な指定が可能です。\n",
    "詳しくは、`pandas` のドキュメントを読んでください。\n",
    "\n",
    "- https://pandas.pydata.org/pandas-docs/stable/user_guide/timeseries.html"
   ]
  }
 ],
 "metadata": {
  "kernelspec": {
   "display_name": ".venv",
   "language": "python",
   "name": "python3"
  },
  "language_info": {
   "codemirror_mode": {
    "name": "ipython",
    "version": 3
   },
   "file_extension": ".py",
   "mimetype": "text/x-python",
   "name": "python",
   "nbconvert_exporter": "python",
   "pygments_lexer": "ipython3",
   "version": "3.11.10"
  }
 },
 "nbformat": 4,
 "nbformat_minor": 2
}
