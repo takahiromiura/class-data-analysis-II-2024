{
 "cells": [
  {
   "cell_type": "markdown",
   "metadata": {},
   "source": [
    "# 前処理\n",
    "\n",
    "何らかの方法で分析に用いるデータを入手したとして、それをそのまま使えるわけではありません。\n",
    "データの加工や整形などを行う必要があり、これらを **前処理** (preprocessing) といったりします。\n",
    "ここでは、そのうちのいくつかの方法を `pandas` を使って学びます。\n",
    "\n",
    "この前処理を実装するのはとても時間がかかることが多いです。\n",
    "データの細かい部分まで理解しておく必要があるからです。\n",
    "また、前処理には非常に多くのトピックがあり、[前処理大全](https://gihyo.jp/book/2018/978-4-7741-9647-3) という本もあります。"
   ]
  },
  {
   "cell_type": "code",
   "execution_count": 1,
   "metadata": {},
   "outputs": [],
   "source": [
    "import pandas as pd\n",
    "from pandas import DataFrame, Series\n",
    "# import numpy as np # 後でインポートするが、ここでしても問題ない"
   ]
  },
  {
   "cell_type": "markdown",
   "metadata": {},
   "source": [
    "## 欠損値\n",
    "\n",
    "### 欠損値とは\n",
    "\n",
    "多くの場合、ある要素のデータが入っていないことがあります。\n",
    "例えば、収入に対するアンケート項目には答えなくない人もいるでしょうし、機器の故障で特定の地域のデータが入らないこともあります。\n",
    "これをまとめて **欠損値** (missing value) と呼びます。\n",
    "必要に応じて、欠損値に対する処理を行うことがあります。\n",
    "\n",
    "以下は、[e-stat](https://www.e-stat.go.jp/) からダウンロードした、2020 年度の産業別雇用数増減の [データ](https://www.e-stat.go.jp/dbview?sid=0003225718) の内訳を示しています。\n",
    "\n",
    "同じデータをダウンロードするには、次の設定でダウンロードしてください。\n",
    "デフォルトの設定から変更するものは太字にしています。\n",
    "\n",
    "- **ダウンロード範囲**: ページ上部の選択項目 (年度次)\n",
    "- ファイル形式: CSV形式(クロス集計表形式・Shift-JIS)\n",
    "- **ヘッダの出力**: 出力しない\n",
    "- **コードの出力**: 出力しない\n",
    "- **補助コードの出力**: 出力しない\n",
    "- 階層コードの出力**: 出力しない\n",
    "- **凡例の出力**: 出力しない\n",
    "- 注釈を表示する: チェックしない\n",
    "- データがない行を表示しない: チェック\n",
    "- データがない列を表示しない: チェック\n",
    "- 桁区切り(,)の選択: 登録時の設定を使用する\n",
    "- **特殊文字の選択**: Nullに置き換える\n",
    "\n",
    "データを Colab に入れて読み込んでみます。"
   ]
  },
  {
   "cell_type": "code",
   "execution_count": 8,
   "metadata": {},
   "outputs": [
    {
     "data": {
      "text/html": [
       "<div>\n",
       "<style scoped>\n",
       "    .dataframe tbody tr th:only-of-type {\n",
       "        vertical-align: middle;\n",
       "    }\n",
       "\n",
       "    .dataframe tbody tr th {\n",
       "        vertical-align: top;\n",
       "    }\n",
       "\n",
       "    .dataframe thead th {\n",
       "        text-align: right;\n",
       "    }\n",
       "</style>\n",
       "<table border=\"1\" class=\"dataframe\">\n",
       "  <thead>\n",
       "    <tr style=\"text-align: right;\">\n",
       "      <th></th>\n",
       "      <th>年度次</th>\n",
       "      <th>産業</th>\n",
       "      <th>/雇用者数の増減率</th>\n",
       "      <th>回答企業数【社】</th>\n",
       "      <th>△１５％以下【％】</th>\n",
       "      <th>△１５％超△１０％以下【％】</th>\n",
       "      <th>△１０％超△５％以下【％】</th>\n",
       "      <th>△５％超０％未満【％】</th>\n",
       "      <th>０％【％】</th>\n",
       "      <th>０％超５％未満【％】</th>\n",
       "      <th>５％以上１０％未満【％】</th>\n",
       "      <th>１０％以上１５％未満【％】</th>\n",
       "      <th>１５％以上【％】</th>\n",
       "      <th>階級値平均【％】</th>\n",
       "    </tr>\n",
       "  </thead>\n",
       "  <tbody>\n",
       "    <tr>\n",
       "      <th>0</th>\n",
       "      <td>2020年度</td>\n",
       "      <td>全産業</td>\n",
       "      <td>NaN</td>\n",
       "      <td>1,108</td>\n",
       "      <td>1.8</td>\n",
       "      <td>0.3</td>\n",
       "      <td>3.2</td>\n",
       "      <td>18.0</td>\n",
       "      <td>10.6</td>\n",
       "      <td>46.8</td>\n",
       "      <td>11.8</td>\n",
       "      <td>3.2</td>\n",
       "      <td>4.3</td>\n",
       "      <td>2.11</td>\n",
       "    </tr>\n",
       "    <tr>\n",
       "      <th>1</th>\n",
       "      <td>2020年度</td>\n",
       "      <td>製造業</td>\n",
       "      <td>NaN</td>\n",
       "      <td>498</td>\n",
       "      <td>0.8</td>\n",
       "      <td>0.2</td>\n",
       "      <td>2.8</td>\n",
       "      <td>18.5</td>\n",
       "      <td>12.4</td>\n",
       "      <td>49.6</td>\n",
       "      <td>10.2</td>\n",
       "      <td>2.2</td>\n",
       "      <td>3.2</td>\n",
       "      <td>1.95</td>\n",
       "    </tr>\n",
       "    <tr>\n",
       "      <th>2</th>\n",
       "      <td>2020年度</td>\n",
       "      <td>素材型製造業</td>\n",
       "      <td>NaN</td>\n",
       "      <td>148</td>\n",
       "      <td>1.4</td>\n",
       "      <td>NaN</td>\n",
       "      <td>2.0</td>\n",
       "      <td>16.2</td>\n",
       "      <td>11.5</td>\n",
       "      <td>53.4</td>\n",
       "      <td>10.1</td>\n",
       "      <td>2.0</td>\n",
       "      <td>3.4</td>\n",
       "      <td>2.09</td>\n",
       "    </tr>\n",
       "    <tr>\n",
       "      <th>3</th>\n",
       "      <td>2020年度</td>\n",
       "      <td>加工型製造業</td>\n",
       "      <td>NaN</td>\n",
       "      <td>203</td>\n",
       "      <td>0.5</td>\n",
       "      <td>0.5</td>\n",
       "      <td>2.5</td>\n",
       "      <td>20.2</td>\n",
       "      <td>10.3</td>\n",
       "      <td>50.7</td>\n",
       "      <td>10.3</td>\n",
       "      <td>3.0</td>\n",
       "      <td>2.0</td>\n",
       "      <td>1.88</td>\n",
       "    </tr>\n",
       "    <tr>\n",
       "      <th>4</th>\n",
       "      <td>2020年度</td>\n",
       "      <td>その他の製造業</td>\n",
       "      <td>NaN</td>\n",
       "      <td>147</td>\n",
       "      <td>0.7</td>\n",
       "      <td>NaN</td>\n",
       "      <td>4.1</td>\n",
       "      <td>18.4</td>\n",
       "      <td>16.3</td>\n",
       "      <td>44.2</td>\n",
       "      <td>10.2</td>\n",
       "      <td>1.4</td>\n",
       "      <td>4.8</td>\n",
       "      <td>1.89</td>\n",
       "    </tr>\n",
       "    <tr>\n",
       "      <th>5</th>\n",
       "      <td>2020年度</td>\n",
       "      <td>非製造業</td>\n",
       "      <td>NaN</td>\n",
       "      <td>610</td>\n",
       "      <td>2.6</td>\n",
       "      <td>0.3</td>\n",
       "      <td>3.4</td>\n",
       "      <td>17.5</td>\n",
       "      <td>9.2</td>\n",
       "      <td>44.6</td>\n",
       "      <td>13.1</td>\n",
       "      <td>3.9</td>\n",
       "      <td>5.2</td>\n",
       "      <td>2.25</td>\n",
       "    </tr>\n",
       "  </tbody>\n",
       "</table>\n",
       "</div>"
      ],
      "text/plain": [
       "      年度次       産業  /雇用者数の増減率 回答企業数【社】  △１５％以下【％】  △１５％超△１０％以下【％】  \\\n",
       "0  2020年度      全産業        NaN    1,108        1.8             0.3   \n",
       "1  2020年度      製造業        NaN      498        0.8             0.2   \n",
       "2  2020年度   素材型製造業        NaN      148        1.4             NaN   \n",
       "3  2020年度   加工型製造業        NaN      203        0.5             0.5   \n",
       "4  2020年度  その他の製造業        NaN      147        0.7             NaN   \n",
       "5  2020年度     非製造業        NaN      610        2.6             0.3   \n",
       "\n",
       "   △１０％超△５％以下【％】  △５％超０％未満【％】  ０％【％】  ０％超５％未満【％】  ５％以上１０％未満【％】  １０％以上１５％未満【％】  \\\n",
       "0            3.2         18.0   10.6        46.8          11.8            3.2   \n",
       "1            2.8         18.5   12.4        49.6          10.2            2.2   \n",
       "2            2.0         16.2   11.5        53.4          10.1            2.0   \n",
       "3            2.5         20.2   10.3        50.7          10.3            3.0   \n",
       "4            4.1         18.4   16.3        44.2          10.2            1.4   \n",
       "5            3.4         17.5    9.2        44.6          13.1            3.9   \n",
       "\n",
       "   １５％以上【％】  階級値平均【％】  \n",
       "0       4.3      2.11  \n",
       "1       3.2      1.95  \n",
       "2       3.4      2.09  \n",
       "3       2.0      1.88  \n",
       "4       4.8      1.89  \n",
       "5       5.2      2.25  "
      ]
     },
     "execution_count": 8,
     "metadata": {},
     "output_type": "execute_result"
    }
   ],
   "source": [
    "data = pd.read_csv(\"content/employee_change.csv\")\n",
    "data"
   ]
  },
  {
   "cell_type": "markdown",
   "metadata": {},
   "source": [
    "`△１５％超△１０％以下【％】` というカラムに注目してください、数値以外に、`NaN` という文字が表示されているのが見えます。\n",
    "`NaN` という表記は、文字列として `NaN` というものが入っているわけではありません。\n",
    "Nan は Not A Number の略で、数値ではないことを表しています。"
   ]
  },
  {
   "cell_type": "markdown",
   "metadata": {},
   "source": [
    "### 欠損値の確認\n",
    "\n",
    "値が欠損値かどうかを調べるには、[`isna`](https://pandas.pydata.org/docs/reference/api/pandas.isna.html) メソッドまたは [`isnull`](https://pandas.pydata.org/docs/reference/api/pandas.isnull.html) メソッドを使います (どちらも同じ機能)。\n",
    "これは、欠損値 (`None` も含みます) なら `True`、そうでないなら `False` を返します。\n",
    "`DataFrame` と `Series` どちらにも実装されていますが、注目したいカラムの `Series` で使ってみます。\n",
    "\n",
    "ライブラリによっては、`isna` と `isnull` が異なる挙動をする場合もあります。\n",
    "注意してください。 "
   ]
  },
  {
   "cell_type": "code",
   "execution_count": 9,
   "metadata": {},
   "outputs": [
    {
     "data": {
      "text/plain": [
       "0    0.3\n",
       "1    0.2\n",
       "2    NaN\n",
       "3    0.5\n",
       "4    NaN\n",
       "5    0.3\n",
       "Name: △１５％超△１０％以下【％】, dtype: float64"
      ]
     },
     "execution_count": 9,
     "metadata": {},
     "output_type": "execute_result"
    }
   ],
   "source": [
    "COL_NAME = \"△１５％超△１０％以下【％】\"  # 注目したいカラム\n",
    "data[COL_NAME]"
   ]
  },
  {
   "cell_type": "code",
   "execution_count": 10,
   "metadata": {},
   "outputs": [
    {
     "data": {
      "text/plain": [
       "0    False\n",
       "1    False\n",
       "2     True\n",
       "3    False\n",
       "4     True\n",
       "5    False\n",
       "Name: △１５％超△１０％以下【％】, dtype: bool"
      ]
     },
     "execution_count": 10,
     "metadata": {},
     "output_type": "execute_result"
    }
   ],
   "source": [
    "data[COL_NAME].isnull()  # 欠損値かどうかの判定"
   ]
  },
  {
   "cell_type": "code",
   "execution_count": 11,
   "metadata": {},
   "outputs": [
    {
     "data": {
      "text/plain": [
       "0    False\n",
       "1    False\n",
       "2     True\n",
       "3    False\n",
       "4     True\n",
       "5    False\n",
       "Name: △１５％超△１０％以下【％】, dtype: bool"
      ]
     },
     "execution_count": 11,
     "metadata": {},
     "output_type": "execute_result"
    }
   ],
   "source": [
    "data[COL_NAME].isna()"
   ]
  },
  {
   "cell_type": "markdown",
   "metadata": {},
   "source": [
    "例えば、これに `sum` メソッドを適用すると、欠損値の数が分かります。\n",
    "`True` や `False` を数値として扱う場合、`True` は 1, `False` は 0 として扱います。"
   ]
  },
  {
   "cell_type": "code",
   "execution_count": 19,
   "metadata": {},
   "outputs": [
    {
     "data": {
      "text/plain": [
       "np.int64(2)"
      ]
     },
     "execution_count": 19,
     "metadata": {},
     "output_type": "execute_result"
    }
   ],
   "source": [
    "data[COL_NAME].isnull().sum()"
   ]
  },
  {
   "cell_type": "markdown",
   "metadata": {},
   "source": [
    "メソッドがオブジェクトを返す場合、さらにそのオブジェクトのメソッドを続けて適用することができます。\n",
    "これをメソッドチェーンといいます。\n",
    "上の例では、`isnull` メソッドが `Series` オブジェクトを返すので、続けて `Series` の `sum` メソッドを適用しています。\n",
    "メソッドチェーンを行うことで、短いコードで様々な操作を組み合わせることが可能です。\n",
    "\n",
    "逆に、欠損値ではないことを確かめるには、[`notna`](https://pandas.pydata.org/docs/reference/api/pandas.notna.html#pandas.notna) メソッドか [`notnull`](https://pandas.pydata.org/docs/reference/api/pandas.notnull.html) メソッドを用います。\n",
    "欠損値ならば `False`、欠損値でないならば、`True` を返します。"
   ]
  },
  {
   "cell_type": "code",
   "execution_count": 20,
   "metadata": {},
   "outputs": [
    {
     "data": {
      "text/plain": [
       "0     True\n",
       "1     True\n",
       "2    False\n",
       "3     True\n",
       "4    False\n",
       "5     True\n",
       "Name: △１５％超△１０％以下【％】, dtype: bool"
      ]
     },
     "execution_count": 20,
     "metadata": {},
     "output_type": "execute_result"
    }
   ],
   "source": [
    "data[COL_NAME].notnull()  # 欠損値ではないかの判定"
   ]
  },
  {
   "cell_type": "markdown",
   "metadata": {},
   "source": [
    "### 欠損値の穴埋め\n",
    "\n",
    "欠損値を扱うときは、*なぜ* 欠損値になっているかを考える必要があります。\n",
    "基本的には、データ公開元に欠損値の規則が記載されていることが多いです。\n",
    "例えば、e-stat では、`凡例表示` という部分をクリックすると、欠損値の規則が記載されています。\n",
    "ここでの欠損値は、「皆無または定義上該当数字がないもの」ということでした。\n",
    "要するに、この例では 0 の合には欠損値になるようです。\n",
    "\n",
    "平均値などを計算する場合、`pandas` ではデフォルトで欠損値を無視して計算します。\n",
    "実際に見てみましょう。"
   ]
  },
  {
   "cell_type": "code",
   "execution_count": 21,
   "metadata": {},
   "outputs": [
    {
     "name": "stdout",
     "output_type": "stream",
     "text": [
      "0    0.3\n",
      "1    0.2\n",
      "2    NaN\n",
      "3    0.5\n",
      "4    NaN\n",
      "5    0.3\n",
      "Name: △１５％超△１０％以下【％】, dtype: float64\n"
     ]
    },
    {
     "data": {
      "text/plain": [
       "np.float64(0.325)"
      ]
     },
     "execution_count": 21,
     "metadata": {},
     "output_type": "execute_result"
    }
   ],
   "source": [
    "print(data[COL_NAME])\n",
    "data[COL_NAME].mean()"
   ]
  },
  {
   "cell_type": "markdown",
   "metadata": {},
   "source": [
    "欠損値でない値の平均は、$(0.3 + 0.2 + 0.5 + 0.3)/4 = 0.325$ なので、たしかに欠損値を無視していることがわかりました。"
   ]
  },
  {
   "cell_type": "markdown",
   "metadata": {},
   "source": [
    "ちなみに、`mean` メソッドの引数として `skipna = False` を入力すると、データに欠損値がある場合には `nan` を返します。"
   ]
  },
  {
   "cell_type": "markdown",
   "metadata": {},
   "source": [
    "ここでは、実際には欠損値は `0` なので、この平均値は過大に推定されています。\n",
    "欠損値を別の値に穴埋めするには、`fillna` メソッドを用います。\n",
    "`fillna` メソッドには、欠損値に埋める値 (`value`) を指定するか、`method` キーワードで、そのデータの直前 (上の行) の値 (欠損値ではないもの) を埋めるか (`ffill`)、直後の値を埋めるか (`bfill`) を指定します。\n",
    "\n",
    "`0` で欠損値を埋めたいので、次のようにします。"
   ]
  },
  {
   "cell_type": "code",
   "execution_count": 22,
   "metadata": {},
   "outputs": [
    {
     "data": {
      "text/plain": [
       "0    0.3\n",
       "1    0.2\n",
       "2    0.0\n",
       "3    0.5\n",
       "4    0.0\n",
       "5    0.3\n",
       "Name: △１５％超△１０％以下【％】, dtype: float64"
      ]
     },
     "execution_count": 22,
     "metadata": {},
     "output_type": "execute_result"
    }
   ],
   "source": [
    "data[COL_NAME].fillna(0)  # 欠損値を 0 で穴埋め"
   ]
  },
  {
   "cell_type": "markdown",
   "metadata": {},
   "source": [
    "欠損値を 0 で埋めた後に、平均値を計算します。"
   ]
  },
  {
   "cell_type": "code",
   "execution_count": 23,
   "metadata": {},
   "outputs": [
    {
     "data": {
      "text/plain": [
       "np.float64(0.21666666666666667)"
      ]
     },
     "execution_count": 23,
     "metadata": {},
     "output_type": "execute_result"
    }
   ],
   "source": [
    "data[COL_NAME].fillna(0).mean()"
   ]
  },
  {
   "cell_type": "markdown",
   "metadata": {},
   "source": [
    "### 欠損データの除外\n",
    "\n",
    "欠損値が、例えばアンケートの未回答であることを表す場合、データから欠損値がある行 (サンプル) を除くことがあります。\n",
    "`Series` にも同じメソッドがありますが、`DataFrame` だと [`dropna`](https://pandas.pydata.org/docs/reference/api/pandas.DataFrame.dropna.html) メソッドを用いることで、欠損値がある *行* を除外できます。\n",
    "\n",
    "`subset` キーワードで指定することで、特定のカラムで欠損値がある場合のみデータを除外するようにできます (カラムなどで複数指定可能)。\n",
    "また、指定した全てのカラムで欠損値がある場合のみ除外するか (`how` キーワードで指定)、一定以上のデータの欠損がある場合にみ除外するか (`thresh` キーワードで指定) など、細かい設定が可能です。\n",
    "逆に、カラムの除外もできます (`axis` キーワードで指定)。\n",
    "\n",
    "ここでは詳しく扱いませんが、データを除外するかどうかには細心の注意を払ってください。\n",
    "データを除外してしまうことで、意図しない偏り (バイアス) のある結果になる可能性があります。\n",
    "\n",
    "`dropna` メソッドを使うと、カラム `△１５％超△１０％以下【％】` のインデックス `2` と `4` のデータが除外された結果を返します。\n"
   ]
  },
  {
   "cell_type": "code",
   "execution_count": 24,
   "metadata": {},
   "outputs": [
    {
     "name": "stdout",
     "output_type": "stream",
     "text": [
      "0    False\n",
      "1    False\n",
      "2     True\n",
      "3    False\n",
      "4     True\n",
      "5    False\n",
      "Name: △１５％超△１０％以下【％】, dtype: bool\n"
     ]
    },
    {
     "data": {
      "text/html": [
       "<div>\n",
       "<style scoped>\n",
       "    .dataframe tbody tr th:only-of-type {\n",
       "        vertical-align: middle;\n",
       "    }\n",
       "\n",
       "    .dataframe tbody tr th {\n",
       "        vertical-align: top;\n",
       "    }\n",
       "\n",
       "    .dataframe thead th {\n",
       "        text-align: right;\n",
       "    }\n",
       "</style>\n",
       "<table border=\"1\" class=\"dataframe\">\n",
       "  <thead>\n",
       "    <tr style=\"text-align: right;\">\n",
       "      <th></th>\n",
       "      <th>年度次</th>\n",
       "      <th>産業</th>\n",
       "      <th>/雇用者数の増減率</th>\n",
       "      <th>回答企業数【社】</th>\n",
       "      <th>△１５％以下【％】</th>\n",
       "      <th>△１５％超△１０％以下【％】</th>\n",
       "      <th>△１０％超△５％以下【％】</th>\n",
       "      <th>△５％超０％未満【％】</th>\n",
       "      <th>０％【％】</th>\n",
       "      <th>０％超５％未満【％】</th>\n",
       "      <th>５％以上１０％未満【％】</th>\n",
       "      <th>１０％以上１５％未満【％】</th>\n",
       "      <th>１５％以上【％】</th>\n",
       "      <th>階級値平均【％】</th>\n",
       "    </tr>\n",
       "  </thead>\n",
       "  <tbody>\n",
       "    <tr>\n",
       "      <th>0</th>\n",
       "      <td>2020年度</td>\n",
       "      <td>全産業</td>\n",
       "      <td>NaN</td>\n",
       "      <td>1,108</td>\n",
       "      <td>1.8</td>\n",
       "      <td>0.3</td>\n",
       "      <td>3.2</td>\n",
       "      <td>18.0</td>\n",
       "      <td>10.6</td>\n",
       "      <td>46.8</td>\n",
       "      <td>11.8</td>\n",
       "      <td>3.2</td>\n",
       "      <td>4.3</td>\n",
       "      <td>2.11</td>\n",
       "    </tr>\n",
       "    <tr>\n",
       "      <th>1</th>\n",
       "      <td>2020年度</td>\n",
       "      <td>製造業</td>\n",
       "      <td>NaN</td>\n",
       "      <td>498</td>\n",
       "      <td>0.8</td>\n",
       "      <td>0.2</td>\n",
       "      <td>2.8</td>\n",
       "      <td>18.5</td>\n",
       "      <td>12.4</td>\n",
       "      <td>49.6</td>\n",
       "      <td>10.2</td>\n",
       "      <td>2.2</td>\n",
       "      <td>3.2</td>\n",
       "      <td>1.95</td>\n",
       "    </tr>\n",
       "    <tr>\n",
       "      <th>3</th>\n",
       "      <td>2020年度</td>\n",
       "      <td>加工型製造業</td>\n",
       "      <td>NaN</td>\n",
       "      <td>203</td>\n",
       "      <td>0.5</td>\n",
       "      <td>0.5</td>\n",
       "      <td>2.5</td>\n",
       "      <td>20.2</td>\n",
       "      <td>10.3</td>\n",
       "      <td>50.7</td>\n",
       "      <td>10.3</td>\n",
       "      <td>3.0</td>\n",
       "      <td>2.0</td>\n",
       "      <td>1.88</td>\n",
       "    </tr>\n",
       "    <tr>\n",
       "      <th>5</th>\n",
       "      <td>2020年度</td>\n",
       "      <td>非製造業</td>\n",
       "      <td>NaN</td>\n",
       "      <td>610</td>\n",
       "      <td>2.6</td>\n",
       "      <td>0.3</td>\n",
       "      <td>3.4</td>\n",
       "      <td>17.5</td>\n",
       "      <td>9.2</td>\n",
       "      <td>44.6</td>\n",
       "      <td>13.1</td>\n",
       "      <td>3.9</td>\n",
       "      <td>5.2</td>\n",
       "      <td>2.25</td>\n",
       "    </tr>\n",
       "  </tbody>\n",
       "</table>\n",
       "</div>"
      ],
      "text/plain": [
       "      年度次      産業  /雇用者数の増減率 回答企業数【社】  △１５％以下【％】  △１５％超△１０％以下【％】  \\\n",
       "0  2020年度     全産業        NaN    1,108        1.8             0.3   \n",
       "1  2020年度     製造業        NaN      498        0.8             0.2   \n",
       "3  2020年度  加工型製造業        NaN      203        0.5             0.5   \n",
       "5  2020年度    非製造業        NaN      610        2.6             0.3   \n",
       "\n",
       "   △１０％超△５％以下【％】  △５％超０％未満【％】  ０％【％】  ０％超５％未満【％】  ５％以上１０％未満【％】  １０％以上１５％未満【％】  \\\n",
       "0            3.2         18.0   10.6        46.8          11.8            3.2   \n",
       "1            2.8         18.5   12.4        49.6          10.2            2.2   \n",
       "3            2.5         20.2   10.3        50.7          10.3            3.0   \n",
       "5            3.4         17.5    9.2        44.6          13.1            3.9   \n",
       "\n",
       "   １５％以上【％】  階級値平均【％】  \n",
       "0       4.3      2.11  \n",
       "1       3.2      1.95  \n",
       "3       2.0      1.88  \n",
       "5       5.2      2.25  "
      ]
     },
     "execution_count": 24,
     "metadata": {},
     "output_type": "execute_result"
    }
   ],
   "source": [
    "print(data[COL_NAME].isna())\n",
    "data.dropna(subset = COL_NAME) # △１５％超△１０％以下【％】で欠損値がある行を除外する"
   ]
  },
  {
   "cell_type": "markdown",
   "metadata": {},
   "source": [
    "## データ型変換\n",
    "\n",
    "`pandas` では、データを読み込んだりして `Series` や `DataFrame` を作成すると、自動でそのデータ型を類推してくれます。\n",
    "しかし、データの型を後から変換するのが必要な場合もあります。\n",
    "\n",
    "よくあるのが、欠損値の処理の際です。\n",
    "時には、欠損値が何らかのシンボルで表されることがあります。\n",
    "例えば、[e-stat](https://www.e-stat.go.jp/) からデータをダウンロードするとき、デフォルトでは欠損値はハイフン `-` などの記号で表されます。\n",
    "\n",
    "次は、2020 年度の産業別雇用数増減の[データ](https://www.e-stat.go.jp/dbview?sid=0003225718)を、デフォルトの欠損値のままでダウンロードした場合の結果です。\n",
    "ファイル名は `employee_change_2020_symbol.csv` とします。\n"
   ]
  },
  {
   "cell_type": "code",
   "execution_count": 27,
   "metadata": {},
   "outputs": [
    {
     "data": {
      "text/html": [
       "<div>\n",
       "<style scoped>\n",
       "    .dataframe tbody tr th:only-of-type {\n",
       "        vertical-align: middle;\n",
       "    }\n",
       "\n",
       "    .dataframe tbody tr th {\n",
       "        vertical-align: top;\n",
       "    }\n",
       "\n",
       "    .dataframe thead th {\n",
       "        text-align: right;\n",
       "    }\n",
       "</style>\n",
       "<table border=\"1\" class=\"dataframe\">\n",
       "  <thead>\n",
       "    <tr style=\"text-align: right;\">\n",
       "      <th></th>\n",
       "      <th>年度次</th>\n",
       "      <th>産業</th>\n",
       "      <th>/雇用者数の増減率</th>\n",
       "      <th>回答企業数【社】</th>\n",
       "      <th>△１５％以下【％】</th>\n",
       "      <th>△１５％超△１０％以下【％】</th>\n",
       "      <th>△１０％超△５％以下【％】</th>\n",
       "      <th>△５％超０％未満【％】</th>\n",
       "      <th>０％【％】</th>\n",
       "      <th>０％超５％未満【％】</th>\n",
       "      <th>５％以上１０％未満【％】</th>\n",
       "      <th>１０％以上１５％未満【％】</th>\n",
       "      <th>１５％以上【％】</th>\n",
       "      <th>階級値平均【％】</th>\n",
       "    </tr>\n",
       "  </thead>\n",
       "  <tbody>\n",
       "    <tr>\n",
       "      <th>0</th>\n",
       "      <td>2020年度</td>\n",
       "      <td>全産業</td>\n",
       "      <td>NaN</td>\n",
       "      <td>1,108</td>\n",
       "      <td>1.8</td>\n",
       "      <td>0.3</td>\n",
       "      <td>3.2</td>\n",
       "      <td>18.0</td>\n",
       "      <td>10.6</td>\n",
       "      <td>46.8</td>\n",
       "      <td>11.8</td>\n",
       "      <td>3.2</td>\n",
       "      <td>4.3</td>\n",
       "      <td>2.11</td>\n",
       "    </tr>\n",
       "    <tr>\n",
       "      <th>1</th>\n",
       "      <td>2020年度</td>\n",
       "      <td>製造業</td>\n",
       "      <td>NaN</td>\n",
       "      <td>498</td>\n",
       "      <td>0.8</td>\n",
       "      <td>0.2</td>\n",
       "      <td>2.8</td>\n",
       "      <td>18.5</td>\n",
       "      <td>12.4</td>\n",
       "      <td>49.6</td>\n",
       "      <td>10.2</td>\n",
       "      <td>2.2</td>\n",
       "      <td>3.2</td>\n",
       "      <td>1.95</td>\n",
       "    </tr>\n",
       "    <tr>\n",
       "      <th>2</th>\n",
       "      <td>2020年度</td>\n",
       "      <td>素材型製造業</td>\n",
       "      <td>NaN</td>\n",
       "      <td>148</td>\n",
       "      <td>1.4</td>\n",
       "      <td>-</td>\n",
       "      <td>2.0</td>\n",
       "      <td>16.2</td>\n",
       "      <td>11.5</td>\n",
       "      <td>53.4</td>\n",
       "      <td>10.1</td>\n",
       "      <td>2.0</td>\n",
       "      <td>3.4</td>\n",
       "      <td>2.09</td>\n",
       "    </tr>\n",
       "    <tr>\n",
       "      <th>3</th>\n",
       "      <td>2020年度</td>\n",
       "      <td>加工型製造業</td>\n",
       "      <td>NaN</td>\n",
       "      <td>203</td>\n",
       "      <td>0.5</td>\n",
       "      <td>0.5</td>\n",
       "      <td>2.5</td>\n",
       "      <td>20.2</td>\n",
       "      <td>10.3</td>\n",
       "      <td>50.7</td>\n",
       "      <td>10.3</td>\n",
       "      <td>3.0</td>\n",
       "      <td>2.0</td>\n",
       "      <td>1.88</td>\n",
       "    </tr>\n",
       "    <tr>\n",
       "      <th>4</th>\n",
       "      <td>2020年度</td>\n",
       "      <td>その他の製造業</td>\n",
       "      <td>NaN</td>\n",
       "      <td>147</td>\n",
       "      <td>0.7</td>\n",
       "      <td>-</td>\n",
       "      <td>4.1</td>\n",
       "      <td>18.4</td>\n",
       "      <td>16.3</td>\n",
       "      <td>44.2</td>\n",
       "      <td>10.2</td>\n",
       "      <td>1.4</td>\n",
       "      <td>4.8</td>\n",
       "      <td>1.89</td>\n",
       "    </tr>\n",
       "    <tr>\n",
       "      <th>5</th>\n",
       "      <td>2020年度</td>\n",
       "      <td>非製造業</td>\n",
       "      <td>NaN</td>\n",
       "      <td>610</td>\n",
       "      <td>2.6</td>\n",
       "      <td>0.3</td>\n",
       "      <td>3.4</td>\n",
       "      <td>17.5</td>\n",
       "      <td>9.2</td>\n",
       "      <td>44.6</td>\n",
       "      <td>13.1</td>\n",
       "      <td>3.9</td>\n",
       "      <td>5.2</td>\n",
       "      <td>2.25</td>\n",
       "    </tr>\n",
       "  </tbody>\n",
       "</table>\n",
       "</div>"
      ],
      "text/plain": [
       "      年度次       産業  /雇用者数の増減率 回答企業数【社】  △１５％以下【％】 △１５％超△１０％以下【％】  \\\n",
       "0  2020年度      全産業        NaN    1,108        1.8            0.3   \n",
       "1  2020年度      製造業        NaN      498        0.8            0.2   \n",
       "2  2020年度   素材型製造業        NaN      148        1.4              -   \n",
       "3  2020年度   加工型製造業        NaN      203        0.5            0.5   \n",
       "4  2020年度  その他の製造業        NaN      147        0.7              -   \n",
       "5  2020年度     非製造業        NaN      610        2.6            0.3   \n",
       "\n",
       "   △１０％超△５％以下【％】  △５％超０％未満【％】  ０％【％】  ０％超５％未満【％】  ５％以上１０％未満【％】  １０％以上１５％未満【％】  \\\n",
       "0            3.2         18.0   10.6        46.8          11.8            3.2   \n",
       "1            2.8         18.5   12.4        49.6          10.2            2.2   \n",
       "2            2.0         16.2   11.5        53.4          10.1            2.0   \n",
       "3            2.5         20.2   10.3        50.7          10.3            3.0   \n",
       "4            4.1         18.4   16.3        44.2          10.2            1.4   \n",
       "5            3.4         17.5    9.2        44.6          13.1            3.9   \n",
       "\n",
       "   １５％以上【％】  階級値平均【％】  \n",
       "0       4.3      2.11  \n",
       "1       3.2      1.95  \n",
       "2       3.4      2.09  \n",
       "3       2.0      1.88  \n",
       "4       4.8      1.89  \n",
       "5       5.2      2.25  "
      ]
     },
     "execution_count": 27,
     "metadata": {},
     "output_type": "execute_result"
    }
   ],
   "source": [
    "data_symbol = pd.read_csv(\"content/employee_change_symbol.csv\")\n",
    "data_symbol"
   ]
  },
  {
   "cell_type": "markdown",
   "metadata": {},
   "source": [
    "`△１５％超△１０％以下【％】` カラムの、前と例との違いが分かるでしょうか。\n",
    "この例では、前の例で `NaN` と表記されていたものがハイフン `-` で表示されています。\n",
    "\n",
    "この違いは、データ型に表れます。\n",
    "前の例の場合と今回の例の場合での該当のカラムのデータ型を見てみます。"
   ]
  },
  {
   "cell_type": "code",
   "execution_count": 26,
   "metadata": {},
   "outputs": [
    {
     "name": "stdout",
     "output_type": "stream",
     "text": [
      "float64\n",
      "object\n"
     ]
    }
   ],
   "source": [
    "print(data[COL_NAME].dtype) # 欠損値が空欄の場合\n",
    "print(data_symbol[COL_NAME].dtype) # 欠損値がハイフンの場合"
   ]
  },
  {
   "cell_type": "markdown",
   "metadata": {},
   "source": [
    "\n",
    "`dtype('O')` というのは、`object` 型であることを示しています。\n",
    "つまり、欠損値がハイフン `-` で表されている場合、`object` 型になっており、何も値を入れないことを欠損値として表現した場合は、`float64` 型、つまり小数点のデータ型として扱われています。\n",
    "\n",
    "なぜ欠損値の処理が重要なのかというと、平均などの集計に `object` 型は使えないからです。"
   ]
  },
  {
   "cell_type": "code",
   "execution_count": 28,
   "metadata": {},
   "outputs": [
    {
     "ename": "TypeError",
     "evalue": "Could not convert ['2020年度2020年度2020年度2020年度2020年度2020年度' '全産業製造業素材型製造業加工型製造業その他の製造業非製造業'\n '1,108498148203147610' '0.30.2-0.5-0.3'] to numeric",
     "output_type": "error",
     "traceback": [
      "\u001b[0;31m---------------------------------------------------------------------------\u001b[0m",
      "\u001b[0;31mTypeError\u001b[0m                                 Traceback (most recent call last)",
      "Cell \u001b[0;32mIn[28], line 1\u001b[0m\n\u001b[0;32m----> 1\u001b[0m \u001b[43mdata_symbol\u001b[49m\u001b[38;5;241;43m.\u001b[39;49m\u001b[43mmean\u001b[49m\u001b[43m(\u001b[49m\u001b[43m)\u001b[49m\n",
      "File \u001b[0;32m~/class/class-data-analysis-ii-2024/.venv/lib/python3.11/site-packages/pandas/core/frame.py:11693\u001b[0m, in \u001b[0;36mDataFrame.mean\u001b[0;34m(self, axis, skipna, numeric_only, **kwargs)\u001b[0m\n\u001b[1;32m  11685\u001b[0m \u001b[38;5;129m@doc\u001b[39m(make_doc(\u001b[38;5;124m\"\u001b[39m\u001b[38;5;124mmean\u001b[39m\u001b[38;5;124m\"\u001b[39m, ndim\u001b[38;5;241m=\u001b[39m\u001b[38;5;241m2\u001b[39m))\n\u001b[1;32m  11686\u001b[0m \u001b[38;5;28;01mdef\u001b[39;00m \u001b[38;5;21mmean\u001b[39m(\n\u001b[1;32m  11687\u001b[0m     \u001b[38;5;28mself\u001b[39m,\n\u001b[0;32m   (...)\u001b[0m\n\u001b[1;32m  11691\u001b[0m     \u001b[38;5;241m*\u001b[39m\u001b[38;5;241m*\u001b[39mkwargs,\n\u001b[1;32m  11692\u001b[0m ):\n\u001b[0;32m> 11693\u001b[0m     result \u001b[38;5;241m=\u001b[39m \u001b[38;5;28;43msuper\u001b[39;49m\u001b[43m(\u001b[49m\u001b[43m)\u001b[49m\u001b[38;5;241;43m.\u001b[39;49m\u001b[43mmean\u001b[49m\u001b[43m(\u001b[49m\u001b[43maxis\u001b[49m\u001b[43m,\u001b[49m\u001b[43m \u001b[49m\u001b[43mskipna\u001b[49m\u001b[43m,\u001b[49m\u001b[43m \u001b[49m\u001b[43mnumeric_only\u001b[49m\u001b[43m,\u001b[49m\u001b[43m \u001b[49m\u001b[38;5;241;43m*\u001b[39;49m\u001b[38;5;241;43m*\u001b[39;49m\u001b[43mkwargs\u001b[49m\u001b[43m)\u001b[49m\n\u001b[1;32m  11694\u001b[0m     \u001b[38;5;28;01mif\u001b[39;00m \u001b[38;5;28misinstance\u001b[39m(result, Series):\n\u001b[1;32m  11695\u001b[0m         result \u001b[38;5;241m=\u001b[39m result\u001b[38;5;241m.\u001b[39m__finalize__(\u001b[38;5;28mself\u001b[39m, method\u001b[38;5;241m=\u001b[39m\u001b[38;5;124m\"\u001b[39m\u001b[38;5;124mmean\u001b[39m\u001b[38;5;124m\"\u001b[39m)\n",
      "File \u001b[0;32m~/class/class-data-analysis-ii-2024/.venv/lib/python3.11/site-packages/pandas/core/generic.py:12420\u001b[0m, in \u001b[0;36mNDFrame.mean\u001b[0;34m(self, axis, skipna, numeric_only, **kwargs)\u001b[0m\n\u001b[1;32m  12413\u001b[0m \u001b[38;5;28;01mdef\u001b[39;00m \u001b[38;5;21mmean\u001b[39m(\n\u001b[1;32m  12414\u001b[0m     \u001b[38;5;28mself\u001b[39m,\n\u001b[1;32m  12415\u001b[0m     axis: Axis \u001b[38;5;241m|\u001b[39m \u001b[38;5;28;01mNone\u001b[39;00m \u001b[38;5;241m=\u001b[39m \u001b[38;5;241m0\u001b[39m,\n\u001b[0;32m   (...)\u001b[0m\n\u001b[1;32m  12418\u001b[0m     \u001b[38;5;241m*\u001b[39m\u001b[38;5;241m*\u001b[39mkwargs,\n\u001b[1;32m  12419\u001b[0m ) \u001b[38;5;241m-\u001b[39m\u001b[38;5;241m>\u001b[39m Series \u001b[38;5;241m|\u001b[39m \u001b[38;5;28mfloat\u001b[39m:\n\u001b[0;32m> 12420\u001b[0m     \u001b[38;5;28;01mreturn\u001b[39;00m \u001b[38;5;28;43mself\u001b[39;49m\u001b[38;5;241;43m.\u001b[39;49m\u001b[43m_stat_function\u001b[49m\u001b[43m(\u001b[49m\n\u001b[1;32m  12421\u001b[0m \u001b[43m        \u001b[49m\u001b[38;5;124;43m\"\u001b[39;49m\u001b[38;5;124;43mmean\u001b[39;49m\u001b[38;5;124;43m\"\u001b[39;49m\u001b[43m,\u001b[49m\u001b[43m \u001b[49m\u001b[43mnanops\u001b[49m\u001b[38;5;241;43m.\u001b[39;49m\u001b[43mnanmean\u001b[49m\u001b[43m,\u001b[49m\u001b[43m \u001b[49m\u001b[43maxis\u001b[49m\u001b[43m,\u001b[49m\u001b[43m \u001b[49m\u001b[43mskipna\u001b[49m\u001b[43m,\u001b[49m\u001b[43m \u001b[49m\u001b[43mnumeric_only\u001b[49m\u001b[43m,\u001b[49m\u001b[43m \u001b[49m\u001b[38;5;241;43m*\u001b[39;49m\u001b[38;5;241;43m*\u001b[39;49m\u001b[43mkwargs\u001b[49m\n\u001b[1;32m  12422\u001b[0m \u001b[43m    \u001b[49m\u001b[43m)\u001b[49m\n",
      "File \u001b[0;32m~/class/class-data-analysis-ii-2024/.venv/lib/python3.11/site-packages/pandas/core/generic.py:12377\u001b[0m, in \u001b[0;36mNDFrame._stat_function\u001b[0;34m(self, name, func, axis, skipna, numeric_only, **kwargs)\u001b[0m\n\u001b[1;32m  12373\u001b[0m nv\u001b[38;5;241m.\u001b[39mvalidate_func(name, (), kwargs)\n\u001b[1;32m  12375\u001b[0m validate_bool_kwarg(skipna, \u001b[38;5;124m\"\u001b[39m\u001b[38;5;124mskipna\u001b[39m\u001b[38;5;124m\"\u001b[39m, none_allowed\u001b[38;5;241m=\u001b[39m\u001b[38;5;28;01mFalse\u001b[39;00m)\n\u001b[0;32m> 12377\u001b[0m \u001b[38;5;28;01mreturn\u001b[39;00m \u001b[38;5;28;43mself\u001b[39;49m\u001b[38;5;241;43m.\u001b[39;49m\u001b[43m_reduce\u001b[49m\u001b[43m(\u001b[49m\n\u001b[1;32m  12378\u001b[0m \u001b[43m    \u001b[49m\u001b[43mfunc\u001b[49m\u001b[43m,\u001b[49m\u001b[43m \u001b[49m\u001b[43mname\u001b[49m\u001b[38;5;241;43m=\u001b[39;49m\u001b[43mname\u001b[49m\u001b[43m,\u001b[49m\u001b[43m \u001b[49m\u001b[43maxis\u001b[49m\u001b[38;5;241;43m=\u001b[39;49m\u001b[43maxis\u001b[49m\u001b[43m,\u001b[49m\u001b[43m \u001b[49m\u001b[43mskipna\u001b[49m\u001b[38;5;241;43m=\u001b[39;49m\u001b[43mskipna\u001b[49m\u001b[43m,\u001b[49m\u001b[43m \u001b[49m\u001b[43mnumeric_only\u001b[49m\u001b[38;5;241;43m=\u001b[39;49m\u001b[43mnumeric_only\u001b[49m\n\u001b[1;32m  12379\u001b[0m \u001b[43m\u001b[49m\u001b[43m)\u001b[49m\n",
      "File \u001b[0;32m~/class/class-data-analysis-ii-2024/.venv/lib/python3.11/site-packages/pandas/core/frame.py:11562\u001b[0m, in \u001b[0;36mDataFrame._reduce\u001b[0;34m(self, op, name, axis, skipna, numeric_only, filter_type, **kwds)\u001b[0m\n\u001b[1;32m  11558\u001b[0m     df \u001b[38;5;241m=\u001b[39m df\u001b[38;5;241m.\u001b[39mT\n\u001b[1;32m  11560\u001b[0m \u001b[38;5;66;03m# After possibly _get_data and transposing, we are now in the\u001b[39;00m\n\u001b[1;32m  11561\u001b[0m \u001b[38;5;66;03m#  simple case where we can use BlockManager.reduce\u001b[39;00m\n\u001b[0;32m> 11562\u001b[0m res \u001b[38;5;241m=\u001b[39m \u001b[43mdf\u001b[49m\u001b[38;5;241;43m.\u001b[39;49m\u001b[43m_mgr\u001b[49m\u001b[38;5;241;43m.\u001b[39;49m\u001b[43mreduce\u001b[49m\u001b[43m(\u001b[49m\u001b[43mblk_func\u001b[49m\u001b[43m)\u001b[49m\n\u001b[1;32m  11563\u001b[0m out \u001b[38;5;241m=\u001b[39m df\u001b[38;5;241m.\u001b[39m_constructor_from_mgr(res, axes\u001b[38;5;241m=\u001b[39mres\u001b[38;5;241m.\u001b[39maxes)\u001b[38;5;241m.\u001b[39miloc[\u001b[38;5;241m0\u001b[39m]\n\u001b[1;32m  11564\u001b[0m \u001b[38;5;28;01mif\u001b[39;00m out_dtype \u001b[38;5;129;01mis\u001b[39;00m \u001b[38;5;129;01mnot\u001b[39;00m \u001b[38;5;28;01mNone\u001b[39;00m \u001b[38;5;129;01mand\u001b[39;00m out\u001b[38;5;241m.\u001b[39mdtype \u001b[38;5;241m!=\u001b[39m \u001b[38;5;124m\"\u001b[39m\u001b[38;5;124mboolean\u001b[39m\u001b[38;5;124m\"\u001b[39m:\n",
      "File \u001b[0;32m~/class/class-data-analysis-ii-2024/.venv/lib/python3.11/site-packages/pandas/core/internals/managers.py:1500\u001b[0m, in \u001b[0;36mBlockManager.reduce\u001b[0;34m(self, func)\u001b[0m\n\u001b[1;32m   1498\u001b[0m res_blocks: \u001b[38;5;28mlist\u001b[39m[Block] \u001b[38;5;241m=\u001b[39m []\n\u001b[1;32m   1499\u001b[0m \u001b[38;5;28;01mfor\u001b[39;00m blk \u001b[38;5;129;01min\u001b[39;00m \u001b[38;5;28mself\u001b[39m\u001b[38;5;241m.\u001b[39mblocks:\n\u001b[0;32m-> 1500\u001b[0m     nbs \u001b[38;5;241m=\u001b[39m \u001b[43mblk\u001b[49m\u001b[38;5;241;43m.\u001b[39;49m\u001b[43mreduce\u001b[49m\u001b[43m(\u001b[49m\u001b[43mfunc\u001b[49m\u001b[43m)\u001b[49m\n\u001b[1;32m   1501\u001b[0m     res_blocks\u001b[38;5;241m.\u001b[39mextend(nbs)\n\u001b[1;32m   1503\u001b[0m index \u001b[38;5;241m=\u001b[39m Index([\u001b[38;5;28;01mNone\u001b[39;00m])  \u001b[38;5;66;03m# placeholder\u001b[39;00m\n",
      "File \u001b[0;32m~/class/class-data-analysis-ii-2024/.venv/lib/python3.11/site-packages/pandas/core/internals/blocks.py:404\u001b[0m, in \u001b[0;36mBlock.reduce\u001b[0;34m(self, func)\u001b[0m\n\u001b[1;32m    398\u001b[0m \u001b[38;5;129m@final\u001b[39m\n\u001b[1;32m    399\u001b[0m \u001b[38;5;28;01mdef\u001b[39;00m \u001b[38;5;21mreduce\u001b[39m(\u001b[38;5;28mself\u001b[39m, func) \u001b[38;5;241m-\u001b[39m\u001b[38;5;241m>\u001b[39m \u001b[38;5;28mlist\u001b[39m[Block]:\n\u001b[1;32m    400\u001b[0m     \u001b[38;5;66;03m# We will apply the function and reshape the result into a single-row\u001b[39;00m\n\u001b[1;32m    401\u001b[0m     \u001b[38;5;66;03m#  Block with the same mgr_locs; squeezing will be done at a higher level\u001b[39;00m\n\u001b[1;32m    402\u001b[0m     \u001b[38;5;28;01massert\u001b[39;00m \u001b[38;5;28mself\u001b[39m\u001b[38;5;241m.\u001b[39mndim \u001b[38;5;241m==\u001b[39m \u001b[38;5;241m2\u001b[39m\n\u001b[0;32m--> 404\u001b[0m     result \u001b[38;5;241m=\u001b[39m \u001b[43mfunc\u001b[49m\u001b[43m(\u001b[49m\u001b[38;5;28;43mself\u001b[39;49m\u001b[38;5;241;43m.\u001b[39;49m\u001b[43mvalues\u001b[49m\u001b[43m)\u001b[49m\n\u001b[1;32m    406\u001b[0m     \u001b[38;5;28;01mif\u001b[39;00m \u001b[38;5;28mself\u001b[39m\u001b[38;5;241m.\u001b[39mvalues\u001b[38;5;241m.\u001b[39mndim \u001b[38;5;241m==\u001b[39m \u001b[38;5;241m1\u001b[39m:\n\u001b[1;32m    407\u001b[0m         res_values \u001b[38;5;241m=\u001b[39m result\n",
      "File \u001b[0;32m~/class/class-data-analysis-ii-2024/.venv/lib/python3.11/site-packages/pandas/core/frame.py:11481\u001b[0m, in \u001b[0;36mDataFrame._reduce.<locals>.blk_func\u001b[0;34m(values, axis)\u001b[0m\n\u001b[1;32m  11479\u001b[0m         \u001b[38;5;28;01mreturn\u001b[39;00m np\u001b[38;5;241m.\u001b[39marray([result])\n\u001b[1;32m  11480\u001b[0m \u001b[38;5;28;01melse\u001b[39;00m:\n\u001b[0;32m> 11481\u001b[0m     \u001b[38;5;28;01mreturn\u001b[39;00m \u001b[43mop\u001b[49m\u001b[43m(\u001b[49m\u001b[43mvalues\u001b[49m\u001b[43m,\u001b[49m\u001b[43m \u001b[49m\u001b[43maxis\u001b[49m\u001b[38;5;241;43m=\u001b[39;49m\u001b[43maxis\u001b[49m\u001b[43m,\u001b[49m\u001b[43m \u001b[49m\u001b[43mskipna\u001b[49m\u001b[38;5;241;43m=\u001b[39;49m\u001b[43mskipna\u001b[49m\u001b[43m,\u001b[49m\u001b[43m \u001b[49m\u001b[38;5;241;43m*\u001b[39;49m\u001b[38;5;241;43m*\u001b[39;49m\u001b[43mkwds\u001b[49m\u001b[43m)\u001b[49m\n",
      "File \u001b[0;32m~/class/class-data-analysis-ii-2024/.venv/lib/python3.11/site-packages/pandas/core/nanops.py:147\u001b[0m, in \u001b[0;36mbottleneck_switch.__call__.<locals>.f\u001b[0;34m(values, axis, skipna, **kwds)\u001b[0m\n\u001b[1;32m    145\u001b[0m         result \u001b[38;5;241m=\u001b[39m alt(values, axis\u001b[38;5;241m=\u001b[39maxis, skipna\u001b[38;5;241m=\u001b[39mskipna, \u001b[38;5;241m*\u001b[39m\u001b[38;5;241m*\u001b[39mkwds)\n\u001b[1;32m    146\u001b[0m \u001b[38;5;28;01melse\u001b[39;00m:\n\u001b[0;32m--> 147\u001b[0m     result \u001b[38;5;241m=\u001b[39m \u001b[43malt\u001b[49m\u001b[43m(\u001b[49m\u001b[43mvalues\u001b[49m\u001b[43m,\u001b[49m\u001b[43m \u001b[49m\u001b[43maxis\u001b[49m\u001b[38;5;241;43m=\u001b[39;49m\u001b[43maxis\u001b[49m\u001b[43m,\u001b[49m\u001b[43m \u001b[49m\u001b[43mskipna\u001b[49m\u001b[38;5;241;43m=\u001b[39;49m\u001b[43mskipna\u001b[49m\u001b[43m,\u001b[49m\u001b[43m \u001b[49m\u001b[38;5;241;43m*\u001b[39;49m\u001b[38;5;241;43m*\u001b[39;49m\u001b[43mkwds\u001b[49m\u001b[43m)\u001b[49m\n\u001b[1;32m    149\u001b[0m \u001b[38;5;28;01mreturn\u001b[39;00m result\n",
      "File \u001b[0;32m~/class/class-data-analysis-ii-2024/.venv/lib/python3.11/site-packages/pandas/core/nanops.py:404\u001b[0m, in \u001b[0;36m_datetimelike_compat.<locals>.new_func\u001b[0;34m(values, axis, skipna, mask, **kwargs)\u001b[0m\n\u001b[1;32m    401\u001b[0m \u001b[38;5;28;01mif\u001b[39;00m datetimelike \u001b[38;5;129;01mand\u001b[39;00m mask \u001b[38;5;129;01mis\u001b[39;00m \u001b[38;5;28;01mNone\u001b[39;00m:\n\u001b[1;32m    402\u001b[0m     mask \u001b[38;5;241m=\u001b[39m isna(values)\n\u001b[0;32m--> 404\u001b[0m result \u001b[38;5;241m=\u001b[39m \u001b[43mfunc\u001b[49m\u001b[43m(\u001b[49m\u001b[43mvalues\u001b[49m\u001b[43m,\u001b[49m\u001b[43m \u001b[49m\u001b[43maxis\u001b[49m\u001b[38;5;241;43m=\u001b[39;49m\u001b[43maxis\u001b[49m\u001b[43m,\u001b[49m\u001b[43m \u001b[49m\u001b[43mskipna\u001b[49m\u001b[38;5;241;43m=\u001b[39;49m\u001b[43mskipna\u001b[49m\u001b[43m,\u001b[49m\u001b[43m \u001b[49m\u001b[43mmask\u001b[49m\u001b[38;5;241;43m=\u001b[39;49m\u001b[43mmask\u001b[49m\u001b[43m,\u001b[49m\u001b[43m \u001b[49m\u001b[38;5;241;43m*\u001b[39;49m\u001b[38;5;241;43m*\u001b[39;49m\u001b[43mkwargs\u001b[49m\u001b[43m)\u001b[49m\n\u001b[1;32m    406\u001b[0m \u001b[38;5;28;01mif\u001b[39;00m datetimelike:\n\u001b[1;32m    407\u001b[0m     result \u001b[38;5;241m=\u001b[39m _wrap_results(result, orig_values\u001b[38;5;241m.\u001b[39mdtype, fill_value\u001b[38;5;241m=\u001b[39miNaT)\n",
      "File \u001b[0;32m~/class/class-data-analysis-ii-2024/.venv/lib/python3.11/site-packages/pandas/core/nanops.py:720\u001b[0m, in \u001b[0;36mnanmean\u001b[0;34m(values, axis, skipna, mask)\u001b[0m\n\u001b[1;32m    718\u001b[0m count \u001b[38;5;241m=\u001b[39m _get_counts(values\u001b[38;5;241m.\u001b[39mshape, mask, axis, dtype\u001b[38;5;241m=\u001b[39mdtype_count)\n\u001b[1;32m    719\u001b[0m the_sum \u001b[38;5;241m=\u001b[39m values\u001b[38;5;241m.\u001b[39msum(axis, dtype\u001b[38;5;241m=\u001b[39mdtype_sum)\n\u001b[0;32m--> 720\u001b[0m the_sum \u001b[38;5;241m=\u001b[39m \u001b[43m_ensure_numeric\u001b[49m\u001b[43m(\u001b[49m\u001b[43mthe_sum\u001b[49m\u001b[43m)\u001b[49m\n\u001b[1;32m    722\u001b[0m \u001b[38;5;28;01mif\u001b[39;00m axis \u001b[38;5;129;01mis\u001b[39;00m \u001b[38;5;129;01mnot\u001b[39;00m \u001b[38;5;28;01mNone\u001b[39;00m \u001b[38;5;129;01mand\u001b[39;00m \u001b[38;5;28mgetattr\u001b[39m(the_sum, \u001b[38;5;124m\"\u001b[39m\u001b[38;5;124mndim\u001b[39m\u001b[38;5;124m\"\u001b[39m, \u001b[38;5;28;01mFalse\u001b[39;00m):\n\u001b[1;32m    723\u001b[0m     count \u001b[38;5;241m=\u001b[39m cast(np\u001b[38;5;241m.\u001b[39mndarray, count)\n",
      "File \u001b[0;32m~/class/class-data-analysis-ii-2024/.venv/lib/python3.11/site-packages/pandas/core/nanops.py:1686\u001b[0m, in \u001b[0;36m_ensure_numeric\u001b[0;34m(x)\u001b[0m\n\u001b[1;32m   1683\u001b[0m inferred \u001b[38;5;241m=\u001b[39m lib\u001b[38;5;241m.\u001b[39minfer_dtype(x)\n\u001b[1;32m   1684\u001b[0m \u001b[38;5;28;01mif\u001b[39;00m inferred \u001b[38;5;129;01min\u001b[39;00m [\u001b[38;5;124m\"\u001b[39m\u001b[38;5;124mstring\u001b[39m\u001b[38;5;124m\"\u001b[39m, \u001b[38;5;124m\"\u001b[39m\u001b[38;5;124mmixed\u001b[39m\u001b[38;5;124m\"\u001b[39m]:\n\u001b[1;32m   1685\u001b[0m     \u001b[38;5;66;03m# GH#44008, GH#36703 avoid casting e.g. strings to numeric\u001b[39;00m\n\u001b[0;32m-> 1686\u001b[0m     \u001b[38;5;28;01mraise\u001b[39;00m \u001b[38;5;167;01mTypeError\u001b[39;00m(\u001b[38;5;124mf\u001b[39m\u001b[38;5;124m\"\u001b[39m\u001b[38;5;124mCould not convert \u001b[39m\u001b[38;5;132;01m{\u001b[39;00mx\u001b[38;5;132;01m}\u001b[39;00m\u001b[38;5;124m to numeric\u001b[39m\u001b[38;5;124m\"\u001b[39m)\n\u001b[1;32m   1687\u001b[0m \u001b[38;5;28;01mtry\u001b[39;00m:\n\u001b[1;32m   1688\u001b[0m     x \u001b[38;5;241m=\u001b[39m x\u001b[38;5;241m.\u001b[39mastype(np\u001b[38;5;241m.\u001b[39mcomplex128)\n",
      "\u001b[0;31mTypeError\u001b[0m: Could not convert ['2020年度2020年度2020年度2020年度2020年度2020年度' '全産業製造業素材型製造業加工型製造業その他の製造業非製造業'\n '1,108498148203147610' '0.30.2-0.5-0.3'] to numeric"
     ]
    }
   ],
   "source": [
    "# data_symbol.mean() # 実行するとエラー"
   ]
  },
  {
   "cell_type": "markdown",
   "metadata": {},
   "source": [
    "まずは、ハイフン `-` は文字列なので、欠損値のシンボルを欠損値 (`NaN`) に変えるか、数値に変える必要があります。\n",
    "[`replace`](https://pandas.pydata.org/docs/reference/api/pandas.Series.replace.html) メソッドを用いて、指定した対応関係の値の変換を行えます。\n",
    "対応関係の指定の仕方はいくつかありますが、辞書型でやるのが直感的だと思います。\n",
    "辞書型でやる場合、データの値 `key` のものが、`value` の値に変換されます。\n",
    "\n",
    "ここでは、ハイフン `-` を 0 に変換します。"
   ]
  },
  {
   "cell_type": "markdown",
   "metadata": {},
   "source": [
    "欠損値に変換する場合は、[`numpy`](https://numpy.org/ja/) というライブラリの [`nan`](https://numpy.org/doc/stable/reference/constants.html) オブジェクトを指定します。\n",
    "`numpy` は一般に `np` と略されてインポートされます。\n",
    "`pandas` をインストールしたときに自動でインストールされているはずです。\n",
    "\n",
    "`numpy` は数値計算に特化した Python のライブラリです。\n",
    "最小二乗法や関数の解を求めるといったことも可能です。\n",
    "また、`pandas` もデータの実装に `numpy` を使っています。"
   ]
  },
  {
   "cell_type": "code",
   "execution_count": 32,
   "metadata": {},
   "outputs": [
    {
     "data": {
      "text/plain": [
       "0    0.3\n",
       "1    0.2\n",
       "2    NaN\n",
       "3    0.5\n",
       "4    NaN\n",
       "5    0.3\n",
       "Name: △１５％超△１０％以下【％】, dtype: object"
      ]
     },
     "execution_count": 32,
     "metadata": {},
     "output_type": "execute_result"
    }
   ],
   "source": [
    "import numpy as np\n",
    "data_symbol[COL_NAME].replace({\"-\": np.nan})"
   ]
  },
  {
   "cell_type": "markdown",
   "metadata": {},
   "source": [
    "\n",
    "欠損値の記号を変換したままでは、データ型は `object` のままです。\n",
    "データ型を変換するには、`Series` の `astype` メソッドでデータ型を指定して変換します。\n",
    "データ型の指定には、`int` や `str` などの関数か、`dtype` の文字列リテラル (`int64` など) を使います。\n",
    "`dtype` の種類は次を参照してください。\n",
    "\n",
    "- `dtype` の種類: https://pandas.pydata.org/docs/user_guide/basics.html#basics-dtypes\n",
    "\n",
    "例えば、ここでは小数点型に変換したいので、`float` 関数を入れるか、`\"float64\"` というデータ型の文字列リテラルを入れます。\n"
   ]
  },
  {
   "cell_type": "code",
   "execution_count": 33,
   "metadata": {},
   "outputs": [
    {
     "data": {
      "text/plain": [
       "0    0.3\n",
       "1    0.2\n",
       "2    0.0\n",
       "3    0.5\n",
       "4    0.0\n",
       "5    0.3\n",
       "Name: △１５％超△１０％以下【％】, dtype: float64"
      ]
     },
     "execution_count": 33,
     "metadata": {},
     "output_type": "execute_result"
    }
   ],
   "source": [
    "data_symbol[COL_NAME].replace({\"-\": 0}).astype(float)  # 関数で指定"
   ]
  },
  {
   "cell_type": "code",
   "execution_count": 34,
   "metadata": {},
   "outputs": [
    {
     "data": {
      "text/plain": [
       "0    0.3\n",
       "1    0.2\n",
       "2    0.0\n",
       "3    0.5\n",
       "4    0.0\n",
       "5    0.3\n",
       "Name: △１５％超△１０％以下【％】, dtype: float64"
      ]
     },
     "execution_count": 34,
     "metadata": {},
     "output_type": "execute_result"
    }
   ],
   "source": [
    "data_symbol[COL_NAME].replace({\"-\": 0}).astype(\"float64\")  # データ型の文字列で指定"
   ]
  },
  {
   "cell_type": "markdown",
   "metadata": {},
   "source": [
    "数値型に変換するならば、`pandas` の `to_numeric` 関数 (メソッドではないことに注意!) の方が便利なこともあります。\n",
    "`to_numeric` 関数は自動で適当な数値型に変換してくれます(小数点を含んでいれば小数点型に、整数だけなら整数型に)。"
   ]
  },
  {
   "cell_type": "code",
   "execution_count": 35,
   "metadata": {},
   "outputs": [
    {
     "data": {
      "text/plain": [
       "0    0.3\n",
       "1    0.2\n",
       "2    0.0\n",
       "3    0.5\n",
       "4    0.0\n",
       "5    0.3\n",
       "Name: △１５％超△１０％以下【％】, dtype: float64"
      ]
     },
     "execution_count": 35,
     "metadata": {},
     "output_type": "execute_result"
    }
   ],
   "source": [
    "pd.to_numeric(data_symbol[COL_NAME].replace({\"-\": 0}))  # 適当な数値型に変換"
   ]
  },
  {
   "cell_type": "markdown",
   "metadata": {},
   "source": [
    "欠損値への変換の場合、`pandas` の [`NA`](https://pandas.pydata.org/docs/user_guide/missing_data.html#na-semantics) オブジェクトを使って欠損値にすることもできますが、少し注意が必要です。\n",
    "`NA` は、文字列などにも対応した欠損値表現なので、`object` 型に使うと、文字列の欠損値として扱われます。\n",
    "したがって、`astype` で数値に変換しようとするとエラーになります。\n",
    "`to_numeric` 関数は、この違いを上手く処理してくれ、数値型の欠損値に変換してくれます。\n",
    "\n",
    "欠損値のシンボルは、時には記号ではなく数値で表されることもあります。\n",
    "例えば、1 ~ 5 段階で答えるようなアンケート項目のデータのときに、それよりも大きい値 (基本的には `9` をつけることが多い) を欠損値のシンボルとして表すことがあります。\n",
    "したがって、まず欠損値がどのように扱われているかをきちんと知ることがデータ分析では重要です。\n",
    "\n",
    "アンケートなどを依頼するときなどでは、欠損値の規則もしっかりとルール化し、伝えておく必要があります。\n",
    "そうしないと、担当者によって様々なシンボルが使われたりと、後で泣きを見ることになります。"
   ]
  },
  {
   "cell_type": "markdown",
   "metadata": {},
   "source": [
    "## データの操作\n",
    "\n",
    "ここでは、データの加工について少し触れていきます。\n",
    "\n",
    "### 四則演算\n",
    "\n",
    "`Series`, `DataFrame` 同士で四則演算をすることが可能です。\n",
    "`Series` 同士の場合は、インデックスが同じ要素同士で演算が行われます。\n",
    "長さが異なるもの同士でも演算が可能ですが、片方しかない要素の計算結果は、`NaN` が入ります。\n",
    "両方のインデックスが組み合わさった `Series` が計算結果として返されます。"
   ]
  },
  {
   "cell_type": "code",
   "execution_count": 36,
   "metadata": {},
   "outputs": [
    {
     "data": {
      "text/plain": [
       "A    1\n",
       "B    2\n",
       "C    3\n",
       "dtype: int64"
      ]
     },
     "execution_count": 36,
     "metadata": {},
     "output_type": "execute_result"
    }
   ],
   "source": [
    "l = Series([1, 2, 3], index=[\"A\", \"B\", \"C\"])\n",
    "l"
   ]
  },
  {
   "cell_type": "code",
   "execution_count": 37,
   "metadata": {},
   "outputs": [
    {
     "data": {
      "text/plain": [
       "A    2\n",
       "B    4\n",
       "C    6\n",
       "dtype: int64"
      ]
     },
     "execution_count": 37,
     "metadata": {},
     "output_type": "execute_result"
    }
   ],
   "source": [
    "l + l  # 同じインデックス同士で足し算"
   ]
  },
  {
   "cell_type": "code",
   "execution_count": 38,
   "metadata": {},
   "outputs": [
    {
     "data": {
      "text/plain": [
       "A    2\n",
       "B    4\n",
       "C    6\n",
       "dtype: int64"
      ]
     },
     "execution_count": 38,
     "metadata": {},
     "output_type": "execute_result"
    }
   ],
   "source": [
    "l + Series([1, 3, 2], index=[\"A\", \"C\", \"B\"])  # インデックスの順番は影響しない"
   ]
  },
  {
   "cell_type": "code",
   "execution_count": 39,
   "metadata": {},
   "outputs": [
    {
     "data": {
      "text/plain": [
       "A    2.0\n",
       "B    4.0\n",
       "C    NaN\n",
       "D    NaN\n",
       "dtype: float64"
      ]
     },
     "execution_count": 39,
     "metadata": {},
     "output_type": "execute_result"
    }
   ],
   "source": [
    "l + Series([1, 2, 3], index = [\"A\", \"B\", \"D\"]) # C と D は NaN になる"
   ]
  },
  {
   "cell_type": "code",
   "execution_count": 40,
   "metadata": {},
   "outputs": [
    {
     "data": {
      "text/plain": [
       "A    2.0\n",
       "B    4.0\n",
       "C    NaN\n",
       "dtype: float64"
      ]
     },
     "execution_count": 40,
     "metadata": {},
     "output_type": "execute_result"
    }
   ],
   "source": [
    "l + Series([1, 2], index = [\"A\", \"B\"]) # 長さが異なっても計算可能"
   ]
  },
  {
   "cell_type": "markdown",
   "metadata": {},
   "source": [
    "`DataFrame` だと行 (インデックス) と列 (カラム) が同じもの同士で計算されます。"
   ]
  },
  {
   "cell_type": "code",
   "execution_count": 45,
   "metadata": {},
   "outputs": [
    {
     "data": {
      "text/html": [
       "<div>\n",
       "<style scoped>\n",
       "    .dataframe tbody tr th:only-of-type {\n",
       "        vertical-align: middle;\n",
       "    }\n",
       "\n",
       "    .dataframe tbody tr th {\n",
       "        vertical-align: top;\n",
       "    }\n",
       "\n",
       "    .dataframe thead th {\n",
       "        text-align: right;\n",
       "    }\n",
       "</style>\n",
       "<table border=\"1\" class=\"dataframe\">\n",
       "  <thead>\n",
       "    <tr style=\"text-align: right;\">\n",
       "      <th></th>\n",
       "      <th>product</th>\n",
       "      <th>sold</th>\n",
       "    </tr>\n",
       "  </thead>\n",
       "  <tbody>\n",
       "    <tr>\n",
       "      <th>0</th>\n",
       "      <td>Apple</td>\n",
       "      <td>1</td>\n",
       "    </tr>\n",
       "    <tr>\n",
       "      <th>1</th>\n",
       "      <td>Banana</td>\n",
       "      <td>4</td>\n",
       "    </tr>\n",
       "    <tr>\n",
       "      <th>2</th>\n",
       "      <td>Carrot</td>\n",
       "      <td>3</td>\n",
       "    </tr>\n",
       "  </tbody>\n",
       "</table>\n",
       "</div>"
      ],
      "text/plain": [
       "  product  sold\n",
       "0   Apple     1\n",
       "1  Banana     4\n",
       "2  Carrot     3"
      ]
     },
     "execution_count": 45,
     "metadata": {},
     "output_type": "execute_result"
    }
   ],
   "source": [
    "data = DataFrame(\n",
    "    {\n",
    "        \"product\": [\"Apple\", \"Banana\", \"Carrot\"],\n",
    "        \"sold\": [1, 4, 3],\n",
    "    }\n",
    ")\n",
    "data"
   ]
  },
  {
   "cell_type": "code",
   "execution_count": 42,
   "metadata": {},
   "outputs": [
    {
     "data": {
      "text/html": [
       "<div>\n",
       "<style scoped>\n",
       "    .dataframe tbody tr th:only-of-type {\n",
       "        vertical-align: middle;\n",
       "    }\n",
       "\n",
       "    .dataframe tbody tr th {\n",
       "        vertical-align: top;\n",
       "    }\n",
       "\n",
       "    .dataframe thead th {\n",
       "        text-align: right;\n",
       "    }\n",
       "</style>\n",
       "<table border=\"1\" class=\"dataframe\">\n",
       "  <thead>\n",
       "    <tr style=\"text-align: right;\">\n",
       "      <th></th>\n",
       "      <th>product</th>\n",
       "      <th>sold</th>\n",
       "    </tr>\n",
       "  </thead>\n",
       "  <tbody>\n",
       "    <tr>\n",
       "      <th>0</th>\n",
       "      <td>AppleApple</td>\n",
       "      <td>2</td>\n",
       "    </tr>\n",
       "    <tr>\n",
       "      <th>1</th>\n",
       "      <td>BananaBanana</td>\n",
       "      <td>8</td>\n",
       "    </tr>\n",
       "    <tr>\n",
       "      <th>2</th>\n",
       "      <td>CarrotCarrot</td>\n",
       "      <td>6</td>\n",
       "    </tr>\n",
       "  </tbody>\n",
       "</table>\n",
       "</div>"
      ],
      "text/plain": [
       "        product  sold\n",
       "0    AppleApple     2\n",
       "1  BananaBanana     8\n",
       "2  CarrotCarrot     6"
      ]
     },
     "execution_count": 42,
     "metadata": {},
     "output_type": "execute_result"
    }
   ],
   "source": [
    "data + data"
   ]
  },
  {
   "cell_type": "markdown",
   "metadata": {},
   "source": [
    "どれかの要素で計算ができない場合にはエラーになるので、基本的には `Series` で計算することが多いです。\n",
    "\n",
    "また、`Series`, `DataFrame` に対する数値との演算は、各要素に対して適用されます。"
   ]
  },
  {
   "cell_type": "code",
   "execution_count": 43,
   "metadata": {},
   "outputs": [
    {
     "data": {
      "text/plain": [
       "A    3\n",
       "B    6\n",
       "C    9\n",
       "dtype: int64"
      ]
     },
     "execution_count": 43,
     "metadata": {},
     "output_type": "execute_result"
    }
   ],
   "source": [
    "Series([1, 2, 3], index=[\"A\", \"B\", \"C\"]) * 3  # 各要素の値が 3 倍される"
   ]
  },
  {
   "cell_type": "markdown",
   "metadata": {},
   "source": [
    "### 条件式と条件分岐\n",
    "\n",
    "ある値より高い場合には 1、そうでない場合は 0 などのダミー変数と言われるものを作る場合があります。\n",
    "例えば、年収の値に応じて、平均以上なら 1 をとる高収入ダミーなどを作成したりします。\n",
    "\n",
    "その前に、条件式について説明します。\n",
    "四則演算と同様、数値、`Series` 同士、`DataFrame` 同士で等しいか `==`、等しくないか `!=` といった判定が可能です。\n",
    "しかし、四則演算とは異なり `Series` 同士で比較するときには、インデックスが全て同じである必要があります。\n",
    "なお、`DataFrame` 同士で比較するときには、インデックスとカラムどちらも同じである必要があります。\n",
    "\n",
    "各要素に対する条件式の結果、`bool` 型が返ってきます。"
   ]
  },
  {
   "cell_type": "code",
   "execution_count": 51,
   "metadata": {},
   "outputs": [
    {
     "name": "stdout",
     "output_type": "stream",
     "text": [
      "0    1\n",
      "1    2\n",
      "2    3\n",
      "dtype: int64\n",
      "0    5\n",
      "1    2\n",
      "2    3\n",
      "dtype: int64\n"
     ]
    }
   ],
   "source": [
    "l = Series([1, 2, 3])\n",
    "r = Series([5, 2, 3])\n",
    "print(l)\n",
    "print(r)"
   ]
  },
  {
   "cell_type": "code",
   "execution_count": 52,
   "metadata": {},
   "outputs": [
    {
     "data": {
      "text/plain": [
       "0    False\n",
       "1    False\n",
       "2     True\n",
       "dtype: bool"
      ]
     },
     "execution_count": 52,
     "metadata": {},
     "output_type": "execute_result"
    }
   ],
   "source": [
    "l == 3  # 各要素に対して a == 3 かどうかを判別"
   ]
  },
  {
   "cell_type": "code",
   "execution_count": 53,
   "metadata": {},
   "outputs": [
    {
     "data": {
      "text/plain": [
       "0    False\n",
       "1     True\n",
       "2     True\n",
       "dtype: bool"
      ]
     },
     "execution_count": 53,
     "metadata": {},
     "output_type": "execute_result"
    }
   ],
   "source": [
    "l == r  # 各要素に対して a == b かどうかを判別"
   ]
  },
  {
   "cell_type": "code",
   "execution_count": 54,
   "metadata": {},
   "outputs": [
    {
     "data": {
      "text/plain": [
       "0     True\n",
       "1    False\n",
       "2    False\n",
       "dtype: bool"
      ]
     },
     "execution_count": 54,
     "metadata": {},
     "output_type": "execute_result"
    }
   ],
   "source": [
    "l != r  # 各要素に対して a != b かどうかを判別"
   ]
  },
  {
   "cell_type": "markdown",
   "metadata": {},
   "source": [
    "\n",
    "また、`bool` 型は `&` や `|` を使った演算が可能で、条件 A かつ条件 B を満たすか判別するには `&` を、条件 A または条件 B を満たすかどうかを判別するには `|` を使います。\n",
    "\n",
    "例えば、次の商品カテゴリーのデータを例にとり、カテゴリーが果物かつ価格が150 円以下かどうか、カテゴリーが果物または価格が 150 以下かどうかを判別します。\n"
   ]
  },
  {
   "cell_type": "code",
   "execution_count": 55,
   "metadata": {},
   "outputs": [],
   "source": [
    "data = pd.DataFrame(\n",
    "    {\n",
    "        \"product\": [\"Apple\", \"Banana\", \"Carrot\", \"Milk\", \"Beef\"],\n",
    "        \"price\": [120, 200, 150, 200, 500],\n",
    "        \"category\": [\"fruit\", \"fruit\", \"vegetable\", \"dairy\", \"meat\"],\n",
    "    }\n",
    ")"
   ]
  },
  {
   "cell_type": "code",
   "execution_count": 56,
   "metadata": {},
   "outputs": [
    {
     "data": {
      "text/plain": [
       "0     True\n",
       "1     True\n",
       "2    False\n",
       "3    False\n",
       "4    False\n",
       "Name: category, dtype: bool"
      ]
     },
     "execution_count": 56,
     "metadata": {},
     "output_type": "execute_result"
    }
   ],
   "source": [
    "data[\"category\"] == \"fruit\"  # 商品カテゴリーが果物"
   ]
  },
  {
   "cell_type": "code",
   "execution_count": 57,
   "metadata": {},
   "outputs": [
    {
     "data": {
      "text/plain": [
       "0     True\n",
       "1    False\n",
       "2    False\n",
       "3    False\n",
       "4    False\n",
       "dtype: bool"
      ]
     },
     "execution_count": 57,
     "metadata": {},
     "output_type": "execute_result"
    }
   ],
   "source": [
    "(data[\"category\"] == \"fruit\") & (\n",
    "    data[\"price\"] <= 150\n",
    ")  # 商品カテゴリーが果物 かつ価格が 150 円以下"
   ]
  },
  {
   "cell_type": "code",
   "execution_count": 58,
   "metadata": {},
   "outputs": [
    {
     "data": {
      "text/plain": [
       "0     True\n",
       "1     True\n",
       "2     True\n",
       "3    False\n",
       "4    False\n",
       "dtype: bool"
      ]
     },
     "execution_count": 58,
     "metadata": {},
     "output_type": "execute_result"
    }
   ],
   "source": [
    "(data[\"category\"] == \"fruit\") | (\n",
    "    data[\"price\"] <= 150\n",
    ")  # 商品カテゴリーが果物 または価格が 150 円以下"
   ]
  },
  {
   "cell_type": "markdown",
   "metadata": {},
   "source": [
    "`bool` 型同士で `&`, `|` を使うので、条件式を括弧で囲み、先に評価する必要があることに注意して下さい。\n",
    "\n",
    "これを利用すると、ダミー変数を作成できます。\n",
    "値が `bool` 型に 1 をかけると `True` は 1 に `False` は 0 にできます。\n",
    "なので、例えば平均価格より高い商品なら 1 をとり、そうでないなら 0 をとるダミー変数は次のように作ります。"
   ]
  },
  {
   "cell_type": "code",
   "execution_count": 59,
   "metadata": {},
   "outputs": [
    {
     "data": {
      "text/plain": [
       "0    False\n",
       "1    False\n",
       "2    False\n",
       "3    False\n",
       "4     True\n",
       "Name: price, dtype: bool"
      ]
     },
     "execution_count": 59,
     "metadata": {},
     "output_type": "execute_result"
    }
   ],
   "source": [
    "data[\"price\"] >= data[\"price\"].mean()  # 平均価格以上かどうか"
   ]
  },
  {
   "cell_type": "code",
   "execution_count": 60,
   "metadata": {},
   "outputs": [
    {
     "data": {
      "text/plain": [
       "0    0\n",
       "1    0\n",
       "2    0\n",
       "3    0\n",
       "4    1\n",
       "Name: price, dtype: int64"
      ]
     },
     "execution_count": 60,
     "metadata": {},
     "output_type": "execute_result"
    }
   ],
   "source": [
    "1 * (data[\"price\"] >= data[\"price\"].mean())  # 高価格ダミー変数"
   ]
  },
  {
   "cell_type": "markdown",
   "metadata": {},
   "source": [
    "`data[\"price\"].mean()` は価格の平均値をとるので、`data[\"price\"] >= data[\"price\"].mean()` は各要素を数値と比較していることに等しいです。\n",
    "\n",
    "この結果を元に新しいダミー変数をデータに追加するならば、次のようにします。"
   ]
  },
  {
   "cell_type": "markdown",
   "metadata": {},
   "source": [
    "### `isin` メソッド\n",
    "\n",
    "`Series` の [`isin`](https://pandas.pydata.org/docs/reference/api/pandas.Series.isin.html#pandas.Series.isin) メソッドを使うと、配列内の各要素のどれかを含むかどうかを判別できます。"
   ]
  },
  {
   "cell_type": "code",
   "execution_count": 61,
   "metadata": {},
   "outputs": [
    {
     "data": {
      "text/plain": [
       "0     True\n",
       "1     True\n",
       "2    False\n",
       "3    False\n",
       "4     True\n",
       "Name: category, dtype: bool"
      ]
     },
     "execution_count": 61,
     "metadata": {},
     "output_type": "execute_result"
    }
   ],
   "source": [
    "data[\"category\"].isin([\"fruit\", \"meat\"])  # 商品カテゴリーが果物か肉かを判別"
   ]
  },
  {
   "cell_type": "markdown",
   "metadata": {},
   "source": [
    "## より高度なフィルタリング\n",
    "\n",
    "単一の条件によるフィルタリング、例えば商品カテゴリーが果物のデータを参照するには次のようにできました。"
   ]
  },
  {
   "cell_type": "code",
   "execution_count": 62,
   "metadata": {},
   "outputs": [
    {
     "data": {
      "text/html": [
       "<div>\n",
       "<style scoped>\n",
       "    .dataframe tbody tr th:only-of-type {\n",
       "        vertical-align: middle;\n",
       "    }\n",
       "\n",
       "    .dataframe tbody tr th {\n",
       "        vertical-align: top;\n",
       "    }\n",
       "\n",
       "    .dataframe thead th {\n",
       "        text-align: right;\n",
       "    }\n",
       "</style>\n",
       "<table border=\"1\" class=\"dataframe\">\n",
       "  <thead>\n",
       "    <tr style=\"text-align: right;\">\n",
       "      <th></th>\n",
       "      <th>product</th>\n",
       "      <th>price</th>\n",
       "      <th>category</th>\n",
       "    </tr>\n",
       "  </thead>\n",
       "  <tbody>\n",
       "    <tr>\n",
       "      <th>0</th>\n",
       "      <td>Apple</td>\n",
       "      <td>120</td>\n",
       "      <td>fruit</td>\n",
       "    </tr>\n",
       "    <tr>\n",
       "      <th>1</th>\n",
       "      <td>Banana</td>\n",
       "      <td>200</td>\n",
       "      <td>fruit</td>\n",
       "    </tr>\n",
       "  </tbody>\n",
       "</table>\n",
       "</div>"
      ],
      "text/plain": [
       "  product  price category\n",
       "0   Apple    120    fruit\n",
       "1  Banana    200    fruit"
      ]
     },
     "execution_count": 62,
     "metadata": {},
     "output_type": "execute_result"
    }
   ],
   "source": [
    "data[data[\"category\"] == \"fruit\"]"
   ]
  },
  {
   "cell_type": "markdown",
   "metadata": {},
   "source": [
    "`data[\"category\"] == \"fruit\"` は `bool` 型の `Series` です。\n",
    "\n",
    "つまり、このフィルタリングの構文は、`True` であるインデックスの `DataFrame` だけを返していることがわかります。\n",
    "なので、複数の条件を組み合わせたフィルタリングも可能です。\n",
    "商品カテゴリーが果物 かつ価格が 150 円以下のデータを次のように取得可能です。\n"
   ]
  },
  {
   "cell_type": "code",
   "execution_count": 63,
   "metadata": {},
   "outputs": [
    {
     "data": {
      "text/html": [
       "<div>\n",
       "<style scoped>\n",
       "    .dataframe tbody tr th:only-of-type {\n",
       "        vertical-align: middle;\n",
       "    }\n",
       "\n",
       "    .dataframe tbody tr th {\n",
       "        vertical-align: top;\n",
       "    }\n",
       "\n",
       "    .dataframe thead th {\n",
       "        text-align: right;\n",
       "    }\n",
       "</style>\n",
       "<table border=\"1\" class=\"dataframe\">\n",
       "  <thead>\n",
       "    <tr style=\"text-align: right;\">\n",
       "      <th></th>\n",
       "      <th>product</th>\n",
       "      <th>price</th>\n",
       "      <th>category</th>\n",
       "    </tr>\n",
       "  </thead>\n",
       "  <tbody>\n",
       "    <tr>\n",
       "      <th>0</th>\n",
       "      <td>Apple</td>\n",
       "      <td>120</td>\n",
       "      <td>fruit</td>\n",
       "    </tr>\n",
       "  </tbody>\n",
       "</table>\n",
       "</div>"
      ],
      "text/plain": [
       "  product  price category\n",
       "0   Apple    120    fruit"
      ]
     },
     "execution_count": 63,
     "metadata": {},
     "output_type": "execute_result"
    }
   ],
   "source": [
    "data[(data[\"category\"] == \"fruit\") & (data[\"price\"] <= 150)]"
   ]
  },
  {
   "cell_type": "markdown",
   "metadata": {},
   "source": [
    "\n",
    "また、`numpy` の [`where`](https://numpy.org/doc/stable/reference/generated/numpy.where.html) 関数を使うことで、条件に応じた値を入れることもできます。\n",
    "\n",
    "`where` 関数は、以下のように使います。\n",
    "\n",
    "```py\n",
    "numpy.where(<condition>, <x>, <y>)\n",
    "```\n",
    "\n",
    "`<condition>` は条件式、`<x>` は条件式が `True` のインデックスに入れる値、`<y>` は条件式が `False` のインデックスに入れる値を示しています。"
   ]
  },
  {
   "cell_type": "code",
   "execution_count": 66,
   "metadata": {},
   "outputs": [
    {
     "data": {
      "text/plain": [
       "0    100\n",
       "1    200\n",
       "2    300\n",
       "3    400\n",
       "4    500\n",
       "dtype: int64"
      ]
     },
     "execution_count": 66,
     "metadata": {},
     "output_type": "execute_result"
    }
   ],
   "source": [
    "price = Series([100, 200, 300, 400, 500])\n",
    "price"
   ]
  },
  {
   "cell_type": "code",
   "execution_count": 68,
   "metadata": {},
   "outputs": [
    {
     "data": {
      "text/plain": [
       "array(['low', 'low', 'high', 'high', 'high'], dtype='<U4')"
      ]
     },
     "execution_count": 68,
     "metadata": {},
     "output_type": "execute_result"
    }
   ],
   "source": [
    "np.where(\n",
    "    price >= price.mean(), \"high\", \"low\"\n",
    ")  # 価格に応じた値を返す"
   ]
  },
  {
   "cell_type": "markdown",
   "metadata": {},
   "source": [
    "## ピボットテーブル\n",
    "\n",
    "以下のような、学生のテストスコアのデータがあるとします。"
   ]
  },
  {
   "cell_type": "code",
   "execution_count": 70,
   "metadata": {},
   "outputs": [],
   "source": [
    "data = pd.DataFrame(\n",
    "    {\n",
    "        \"学生ID\": [1, 2, 3, 4, 5, 6, 7, 8],\n",
    "        \"クラス\": [\"A\", \"A\", \"B\", \"B\", \"A\", \"B\", \"A\", \"B\"],\n",
    "        \"教科\": [\"数学\", \"国語\", \"数学\", \"国語\", \"数学\", \"国語\", \"数学\", \"国語\"],\n",
    "        \"点数\": [80, 75, 90, 85, 70, 80, 95, 90],\n",
    "    }\n",
    ")"
   ]
  },
  {
   "cell_type": "markdown",
   "metadata": {},
   "source": [
    "クラス・教科ごとの平均点数を計算し、クラスごとに得意な教科が異なるかを分析したいとします。\n",
    "[`pivot_table`](https://pandas.pydata.org/docs/reference/api/pandas.pivot_table.html) メソッドはこのようなクロス集計を行うのに便利です。\n",
    "`pivot_table` を使うことで、データを 2 つ以上のカテゴリーの組み合わせ毎の集計データに変換します。\n",
    "\n",
    "`pivot_table` は以下の 4 つのキーワードを用います。\n",
    "- `values`: 集計するデータのカラム名。\n",
    "- `index`: ピボットテーブルの行になるキーを指定します（複数指定可能）。\n",
    "- `columns`: ピボットテーブルの列になるキーを指定します（複数指定可能）。\n",
    "- `aggfunc`: 適用したい集計関数を指定します。\n",
    "  - デフォルトでは平均値 `mean` で、他にも合計 `sum`、観測数 `count` などがあります。\n",
    "\n",
    "以下はコード例です。\n",
    "B クラスは国語・数学どちらも A クラスよりも平均が高いことが分かります。"
   ]
  },
  {
   "cell_type": "code",
   "execution_count": 71,
   "metadata": {},
   "outputs": [
    {
     "data": {
      "text/html": [
       "<div>\n",
       "<style scoped>\n",
       "    .dataframe tbody tr th:only-of-type {\n",
       "        vertical-align: middle;\n",
       "    }\n",
       "\n",
       "    .dataframe tbody tr th {\n",
       "        vertical-align: top;\n",
       "    }\n",
       "\n",
       "    .dataframe thead th {\n",
       "        text-align: right;\n",
       "    }\n",
       "</style>\n",
       "<table border=\"1\" class=\"dataframe\">\n",
       "  <thead>\n",
       "    <tr style=\"text-align: right;\">\n",
       "      <th>教科</th>\n",
       "      <th>国語</th>\n",
       "      <th>数学</th>\n",
       "    </tr>\n",
       "    <tr>\n",
       "      <th>クラス</th>\n",
       "      <th></th>\n",
       "      <th></th>\n",
       "    </tr>\n",
       "  </thead>\n",
       "  <tbody>\n",
       "    <tr>\n",
       "      <th>A</th>\n",
       "      <td>75.0</td>\n",
       "      <td>81.666667</td>\n",
       "    </tr>\n",
       "    <tr>\n",
       "      <th>B</th>\n",
       "      <td>85.0</td>\n",
       "      <td>90.000000</td>\n",
       "    </tr>\n",
       "  </tbody>\n",
       "</table>\n",
       "</div>"
      ],
      "text/plain": [
       "教科     国語         数学\n",
       "クラス                 \n",
       "A    75.0  81.666667\n",
       "B    85.0  90.000000"
      ]
     },
     "execution_count": 71,
     "metadata": {},
     "output_type": "execute_result"
    }
   ],
   "source": [
    "data.pivot_table(values=\"点数\", index=\"クラス\", columns=\"教科\")"
   ]
  },
  {
   "cell_type": "markdown",
   "metadata": {},
   "source": [
    "## ソート・ランク\n",
    "\n",
    "[`sort_values`](https://pandas.pydata.org/docs/reference/api/pandas.DataFrame.sort_values.html) メソッドは、指定したカラムの値に応じてデータを並び替えます。 "
   ]
  },
  {
   "cell_type": "code",
   "execution_count": 72,
   "metadata": {},
   "outputs": [],
   "source": [
    "df = pd.DataFrame(\n",
    "    {\n",
    "        \"name\": [\"Alice\", \"Bob\", \"Charlie\", \"David\", \"Eve\"],\n",
    "        \"age\": [13, 14, 12, 15, 13],\n",
    "        \"score\": [85, 62, 75, 88, 90],\n",
    "    }\n",
    ")"
   ]
  },
  {
   "cell_type": "code",
   "execution_count": 73,
   "metadata": {},
   "outputs": [
    {
     "data": {
      "text/html": [
       "<div>\n",
       "<style scoped>\n",
       "    .dataframe tbody tr th:only-of-type {\n",
       "        vertical-align: middle;\n",
       "    }\n",
       "\n",
       "    .dataframe tbody tr th {\n",
       "        vertical-align: top;\n",
       "    }\n",
       "\n",
       "    .dataframe thead th {\n",
       "        text-align: right;\n",
       "    }\n",
       "</style>\n",
       "<table border=\"1\" class=\"dataframe\">\n",
       "  <thead>\n",
       "    <tr style=\"text-align: right;\">\n",
       "      <th></th>\n",
       "      <th>name</th>\n",
       "      <th>age</th>\n",
       "      <th>score</th>\n",
       "    </tr>\n",
       "  </thead>\n",
       "  <tbody>\n",
       "    <tr>\n",
       "      <th>2</th>\n",
       "      <td>Charlie</td>\n",
       "      <td>12</td>\n",
       "      <td>75</td>\n",
       "    </tr>\n",
       "    <tr>\n",
       "      <th>0</th>\n",
       "      <td>Alice</td>\n",
       "      <td>13</td>\n",
       "      <td>85</td>\n",
       "    </tr>\n",
       "    <tr>\n",
       "      <th>4</th>\n",
       "      <td>Eve</td>\n",
       "      <td>13</td>\n",
       "      <td>90</td>\n",
       "    </tr>\n",
       "    <tr>\n",
       "      <th>1</th>\n",
       "      <td>Bob</td>\n",
       "      <td>14</td>\n",
       "      <td>62</td>\n",
       "    </tr>\n",
       "    <tr>\n",
       "      <th>3</th>\n",
       "      <td>David</td>\n",
       "      <td>15</td>\n",
       "      <td>88</td>\n",
       "    </tr>\n",
       "  </tbody>\n",
       "</table>\n",
       "</div>"
      ],
      "text/plain": [
       "      name  age  score\n",
       "2  Charlie   12     75\n",
       "0    Alice   13     85\n",
       "4      Eve   13     90\n",
       "1      Bob   14     62\n",
       "3    David   15     88"
      ]
     },
     "execution_count": 73,
     "metadata": {},
     "output_type": "execute_result"
    }
   ],
   "source": [
    "df.sort_values(\"age\")  # 年齢でソート"
   ]
  },
  {
   "cell_type": "code",
   "execution_count": 74,
   "metadata": {},
   "outputs": [
    {
     "data": {
      "text/html": [
       "<div>\n",
       "<style scoped>\n",
       "    .dataframe tbody tr th:only-of-type {\n",
       "        vertical-align: middle;\n",
       "    }\n",
       "\n",
       "    .dataframe tbody tr th {\n",
       "        vertical-align: top;\n",
       "    }\n",
       "\n",
       "    .dataframe thead th {\n",
       "        text-align: right;\n",
       "    }\n",
       "</style>\n",
       "<table border=\"1\" class=\"dataframe\">\n",
       "  <thead>\n",
       "    <tr style=\"text-align: right;\">\n",
       "      <th></th>\n",
       "      <th>name</th>\n",
       "      <th>age</th>\n",
       "      <th>score</th>\n",
       "    </tr>\n",
       "  </thead>\n",
       "  <tbody>\n",
       "    <tr>\n",
       "      <th>1</th>\n",
       "      <td>Bob</td>\n",
       "      <td>14</td>\n",
       "      <td>62</td>\n",
       "    </tr>\n",
       "    <tr>\n",
       "      <th>2</th>\n",
       "      <td>Charlie</td>\n",
       "      <td>12</td>\n",
       "      <td>75</td>\n",
       "    </tr>\n",
       "    <tr>\n",
       "      <th>0</th>\n",
       "      <td>Alice</td>\n",
       "      <td>13</td>\n",
       "      <td>85</td>\n",
       "    </tr>\n",
       "    <tr>\n",
       "      <th>3</th>\n",
       "      <td>David</td>\n",
       "      <td>15</td>\n",
       "      <td>88</td>\n",
       "    </tr>\n",
       "    <tr>\n",
       "      <th>4</th>\n",
       "      <td>Eve</td>\n",
       "      <td>13</td>\n",
       "      <td>90</td>\n",
       "    </tr>\n",
       "  </tbody>\n",
       "</table>\n",
       "</div>"
      ],
      "text/plain": [
       "      name  age  score\n",
       "1      Bob   14     62\n",
       "2  Charlie   12     75\n",
       "0    Alice   13     85\n",
       "3    David   15     88\n",
       "4      Eve   13     90"
      ]
     },
     "execution_count": 74,
     "metadata": {},
     "output_type": "execute_result"
    }
   ],
   "source": [
    "df.sort_values(\"score\")  # 点数でソート"
   ]
  },
  {
   "cell_type": "markdown",
   "metadata": {},
   "source": [
    "`ascending` キーワードでソートを昇順 (ascending order) か降順 (decending order) か指定できます。\n",
    "デフォルトでは昇順で、値が低い方から高い方に並び替えられます。\n",
    "`ascending = False` で降順にできます。"
   ]
  },
  {
   "cell_type": "code",
   "execution_count": 75,
   "metadata": {},
   "outputs": [
    {
     "data": {
      "text/html": [
       "<div>\n",
       "<style scoped>\n",
       "    .dataframe tbody tr th:only-of-type {\n",
       "        vertical-align: middle;\n",
       "    }\n",
       "\n",
       "    .dataframe tbody tr th {\n",
       "        vertical-align: top;\n",
       "    }\n",
       "\n",
       "    .dataframe thead th {\n",
       "        text-align: right;\n",
       "    }\n",
       "</style>\n",
       "<table border=\"1\" class=\"dataframe\">\n",
       "  <thead>\n",
       "    <tr style=\"text-align: right;\">\n",
       "      <th></th>\n",
       "      <th>name</th>\n",
       "      <th>age</th>\n",
       "      <th>score</th>\n",
       "    </tr>\n",
       "  </thead>\n",
       "  <tbody>\n",
       "    <tr>\n",
       "      <th>3</th>\n",
       "      <td>David</td>\n",
       "      <td>15</td>\n",
       "      <td>88</td>\n",
       "    </tr>\n",
       "    <tr>\n",
       "      <th>1</th>\n",
       "      <td>Bob</td>\n",
       "      <td>14</td>\n",
       "      <td>62</td>\n",
       "    </tr>\n",
       "    <tr>\n",
       "      <th>0</th>\n",
       "      <td>Alice</td>\n",
       "      <td>13</td>\n",
       "      <td>85</td>\n",
       "    </tr>\n",
       "    <tr>\n",
       "      <th>4</th>\n",
       "      <td>Eve</td>\n",
       "      <td>13</td>\n",
       "      <td>90</td>\n",
       "    </tr>\n",
       "    <tr>\n",
       "      <th>2</th>\n",
       "      <td>Charlie</td>\n",
       "      <td>12</td>\n",
       "      <td>75</td>\n",
       "    </tr>\n",
       "  </tbody>\n",
       "</table>\n",
       "</div>"
      ],
      "text/plain": [
       "      name  age  score\n",
       "3    David   15     88\n",
       "1      Bob   14     62\n",
       "0    Alice   13     85\n",
       "4      Eve   13     90\n",
       "2  Charlie   12     75"
      ]
     },
     "execution_count": 75,
     "metadata": {},
     "output_type": "execute_result"
    }
   ],
   "source": [
    "df.sort_values(\"age\", ascending=False)  # 降順にソート"
   ]
  },
  {
   "cell_type": "markdown",
   "metadata": {},
   "source": [
    "[`set_index`](https://pandas.pydata.org/docs/reference/api/pandas.DataFrame.set_index.html) は指定したカラムをインデックスにすることができます。"
   ]
  },
  {
   "cell_type": "code",
   "execution_count": 76,
   "metadata": {},
   "outputs": [
    {
     "data": {
      "text/html": [
       "<div>\n",
       "<style scoped>\n",
       "    .dataframe tbody tr th:only-of-type {\n",
       "        vertical-align: middle;\n",
       "    }\n",
       "\n",
       "    .dataframe tbody tr th {\n",
       "        vertical-align: top;\n",
       "    }\n",
       "\n",
       "    .dataframe thead th {\n",
       "        text-align: right;\n",
       "    }\n",
       "</style>\n",
       "<table border=\"1\" class=\"dataframe\">\n",
       "  <thead>\n",
       "    <tr style=\"text-align: right;\">\n",
       "      <th></th>\n",
       "      <th>age</th>\n",
       "      <th>score</th>\n",
       "    </tr>\n",
       "    <tr>\n",
       "      <th>name</th>\n",
       "      <th></th>\n",
       "      <th></th>\n",
       "    </tr>\n",
       "  </thead>\n",
       "  <tbody>\n",
       "    <tr>\n",
       "      <th>Alice</th>\n",
       "      <td>13</td>\n",
       "      <td>85</td>\n",
       "    </tr>\n",
       "    <tr>\n",
       "      <th>Bob</th>\n",
       "      <td>14</td>\n",
       "      <td>62</td>\n",
       "    </tr>\n",
       "    <tr>\n",
       "      <th>Charlie</th>\n",
       "      <td>12</td>\n",
       "      <td>75</td>\n",
       "    </tr>\n",
       "    <tr>\n",
       "      <th>David</th>\n",
       "      <td>15</td>\n",
       "      <td>88</td>\n",
       "    </tr>\n",
       "    <tr>\n",
       "      <th>Eve</th>\n",
       "      <td>13</td>\n",
       "      <td>90</td>\n",
       "    </tr>\n",
       "  </tbody>\n",
       "</table>\n",
       "</div>"
      ],
      "text/plain": [
       "         age  score\n",
       "name               \n",
       "Alice     13     85\n",
       "Bob       14     62\n",
       "Charlie   12     75\n",
       "David     15     88\n",
       "Eve       13     90"
      ]
     },
     "execution_count": 76,
     "metadata": {},
     "output_type": "execute_result"
    }
   ],
   "source": [
    "df.set_index(\"name\")"
   ]
  },
  {
   "cell_type": "markdown",
   "metadata": {},
   "source": [
    "[`sort_index`](https://pandas.pydata.org/docs/reference/api/pandas.DataFrame.sort_index.html) はインデックスに応じてデータをソートします。"
   ]
  },
  {
   "cell_type": "code",
   "execution_count": 77,
   "metadata": {},
   "outputs": [
    {
     "data": {
      "text/html": [
       "<div>\n",
       "<style scoped>\n",
       "    .dataframe tbody tr th:only-of-type {\n",
       "        vertical-align: middle;\n",
       "    }\n",
       "\n",
       "    .dataframe tbody tr th {\n",
       "        vertical-align: top;\n",
       "    }\n",
       "\n",
       "    .dataframe thead th {\n",
       "        text-align: right;\n",
       "    }\n",
       "</style>\n",
       "<table border=\"1\" class=\"dataframe\">\n",
       "  <thead>\n",
       "    <tr style=\"text-align: right;\">\n",
       "      <th></th>\n",
       "      <th>age</th>\n",
       "      <th>score</th>\n",
       "    </tr>\n",
       "    <tr>\n",
       "      <th>name</th>\n",
       "      <th></th>\n",
       "      <th></th>\n",
       "    </tr>\n",
       "  </thead>\n",
       "  <tbody>\n",
       "    <tr>\n",
       "      <th>Alice</th>\n",
       "      <td>13</td>\n",
       "      <td>85</td>\n",
       "    </tr>\n",
       "    <tr>\n",
       "      <th>Bob</th>\n",
       "      <td>14</td>\n",
       "      <td>62</td>\n",
       "    </tr>\n",
       "    <tr>\n",
       "      <th>Charlie</th>\n",
       "      <td>12</td>\n",
       "      <td>75</td>\n",
       "    </tr>\n",
       "    <tr>\n",
       "      <th>David</th>\n",
       "      <td>15</td>\n",
       "      <td>88</td>\n",
       "    </tr>\n",
       "    <tr>\n",
       "      <th>Eve</th>\n",
       "      <td>13</td>\n",
       "      <td>90</td>\n",
       "    </tr>\n",
       "  </tbody>\n",
       "</table>\n",
       "</div>"
      ],
      "text/plain": [
       "         age  score\n",
       "name               \n",
       "Alice     13     85\n",
       "Bob       14     62\n",
       "Charlie   12     75\n",
       "David     15     88\n",
       "Eve       13     90"
      ]
     },
     "execution_count": 77,
     "metadata": {},
     "output_type": "execute_result"
    }
   ],
   "source": [
    "df.set_index(\"name\").sort_index()"
   ]
  },
  {
   "cell_type": "markdown",
   "metadata": {},
   "source": [
    "## データの確認・整理につかう属性・メソッド、関数"
   ]
  },
  {
   "cell_type": "code",
   "execution_count": 78,
   "metadata": {},
   "outputs": [],
   "source": [
    "df = pd.DataFrame(\n",
    "    [\n",
    "        [1, 2, 3],\n",
    "        [4, 5, 6],\n",
    "    ]\n",
    ")"
   ]
  },
  {
   "cell_type": "markdown",
   "metadata": {},
   "source": [
    "`size` 属性は 行数 x 列数、つまりの要素の数を返します。"
   ]
  },
  {
   "cell_type": "code",
   "execution_count": 79,
   "metadata": {},
   "outputs": [
    {
     "data": {
      "text/plain": [
       "6"
      ]
     },
     "execution_count": 79,
     "metadata": {},
     "output_type": "execute_result"
    }
   ],
   "source": [
    "df.size"
   ]
  },
  {
   "cell_type": "markdown",
   "metadata": {},
   "source": [
    "`values` 属性は `Series`, `DataFrame` の要素を `numpy` の `ndarray` というオブジェクトとして返します。"
   ]
  },
  {
   "cell_type": "code",
   "execution_count": 80,
   "metadata": {},
   "outputs": [
    {
     "data": {
      "text/plain": [
       "array([[1, 2, 3],\n",
       "       [4, 5, 6]])"
      ]
     },
     "execution_count": 80,
     "metadata": {},
     "output_type": "execute_result"
    }
   ],
   "source": [
    "df.values"
   ]
  },
  {
   "cell_type": "markdown",
   "metadata": {},
   "source": [
    "`Series` の [`value_counts`](https://pandas.pydata.org/docs/reference/api/pandas.Series.value_counts.html) メソッドは、データの値毎の頻度を数えてくれます。\n",
    "簡単なデータのサマリーとして重宝します。"
   ]
  },
  {
   "cell_type": "code",
   "execution_count": 81,
   "metadata": {},
   "outputs": [
    {
     "data": {
      "text/plain": [
       "0     Apple\n",
       "1    Banana\n",
       "2    Orange\n",
       "3    Banana\n",
       "4     Apple\n",
       "5    Orange\n",
       "6     Apple\n",
       "7    Banana\n",
       "dtype: object"
      ]
     },
     "execution_count": 81,
     "metadata": {},
     "output_type": "execute_result"
    }
   ],
   "source": [
    "fruits = Series(\n",
    "    [\"Apple\", \"Banana\", \"Orange\", \"Banana\", \"Apple\", \"Orange\", \"Apple\", \"Banana\"]\n",
    ")\n",
    "fruits"
   ]
  },
  {
   "cell_type": "code",
   "execution_count": 82,
   "metadata": {},
   "outputs": [
    {
     "data": {
      "text/plain": [
       "Apple     3\n",
       "Banana    3\n",
       "Orange    2\n",
       "Name: count, dtype: int64"
      ]
     },
     "execution_count": 82,
     "metadata": {},
     "output_type": "execute_result"
    }
   ],
   "source": [
    "fruits.value_counts()"
   ]
  },
  {
   "cell_type": "markdown",
   "metadata": {},
   "source": [
    "また、意図しないデータが紛れ込んでいないかを確認するのにも使えます。"
   ]
  },
  {
   "cell_type": "code",
   "execution_count": 83,
   "metadata": {},
   "outputs": [
    {
     "data": {
      "text/plain": [
       "Apple     3\n",
       "Banana    2\n",
       "Orange    2\n",
       "-         1\n",
       "Name: count, dtype: int64"
      ]
     },
     "execution_count": 83,
     "metadata": {},
     "output_type": "execute_result"
    }
   ],
   "source": [
    "Series(\n",
    "    [\"Apple\", \"Banana\", \"Orange\", \"Banana\", \"Apple\", \"Orange\", \"Apple\", \"-\"]\n",
    ").value_counts()"
   ]
  }
 ],
 "metadata": {
  "kernelspec": {
   "display_name": ".venv",
   "language": "python",
   "name": "python3"
  },
  "language_info": {
   "codemirror_mode": {
    "name": "ipython",
    "version": 3
   },
   "file_extension": ".py",
   "mimetype": "text/x-python",
   "name": "python",
   "nbconvert_exporter": "python",
   "pygments_lexer": "ipython3",
   "version": "3.11.10"
  }
 },
 "nbformat": 4,
 "nbformat_minor": 2
}
