{
 "cells": [
  {
   "cell_type": "markdown",
   "metadata": {},
   "source": [
    "# データ読み込み/書き込み\n"
   ]
  },
  {
   "cell_type": "markdown",
   "metadata": {},
   "source": [
    "## Google Colab 内のデータ\n",
    "\n",
    "Google Colab の左側のフォルダーアイコン :file_folder: をクリックすると、初期時点に入っているデータが表示されます。\n",
    "\n",
    "`sample_data` フォルダーに、以下のファイルが入っているのが確認できます。\n",
    "各ファイルはダブルクリックをすると開けます。\n",
    "\n",
    "- `README.md`: サンプルデータの説明ファイル\n",
    "- `anscombe.json`\n",
    "- `california_housing_test.csv`\n",
    "- `california_housing_train.csv`\n",
    "- `mnist_test.csv`\n",
    "- `mnist_train.csv`\n",
    "\n",
    ":file_folder:.. をクリックすると、上の階層のフォルダに移動します。\n",
    "\n",
    "移動前のフォルダは `content` という名前のフォルダです。\n",
    "\n",
    "一定時間が経つと、Colab のストレージに上げたデータは削除されるので注意してください。\n",
    "\n",
    "## パス\n",
    "\n",
    "コンピュータ上にあるファイルの置き場所を示す文字列のことを、**パス** (path) といいます。\n",
    "\n",
    "そのうち、ファイルのパスはファイルパス、フォルダのパスはフォルダパスといいます。\n",
    "\n",
    "また、フォルダのことをディレクトリ (directory) と呼んだりもします。\n",
    "\n",
    "Google Colab 上のフォルダ・ファイルのパスは、フォルダ・ファイルを右クリック -> `パスをコピー` でコピーできます。\n",
    "\n",
    "例えば、`california_housing_test.csv` のファイルパスは、`/content/sample_data/california_housing_train.csv` です。\n",
    "\n",
    "他のファイルのパスもコピーして確認してみましょう。\n",
    "\n",
    "## データのアップロード\n",
    "\n",
    "ファイルが表示されている領域にアップロードしたいファイルをドラッグ & ドロップするか、ファイルタブの左上にある ↑ のアイコンをクリックすると、アップロードするファイルを選択できます。\n",
    "\n",
    "アップロードしたファイルは `content` フォルダ内にアップロードされます。\n",
    "\n",
    "試しに、`sample_data` 内の適当なファイルをダウンロードし、アップロードしてください。\n",
    "\n",
    "また、そのファイルのパスも確認しましょう。"
   ]
  },
  {
   "cell_type": "markdown",
   "metadata": {},
   "source": [
    "## データの読み込み\n",
    "\n",
    "`pandas` は数多くのデータ形式の入出力処理に対応しています。\n",
    "\n",
    "入出力のことを **I/O** (input/output) とも呼びます。\n",
    "\n",
    "ここでは、よく使われる csv と xlsx のファイル読み込みを行います。\n",
    "`read_xxx` という関数名が、特定のファイル形式の読み込みに対応しています。\n",
    "\n",
    "- 読み込み用関数一覧: https://pandas.pydata.org/docs/reference/io.html\n",
    "\n",
    "### CSV ファイルの読み込み\n",
    "\n",
    "csv とは、comma separated values の略で、列ごとに値をカンマ `,` で区切って表します。\n",
    "行ごとにデータが格納されています。\n",
    "csv ファイルの読み込みには、`read_csv` 関数を用います。\n",
    "\n",
    "試しに、sample_data 内の `california_housing_test.csv` をダウンロードして、メモ帳 (Mac ならテキストエディット) で開いてみてください。\n",
    "\n",
    "また、最初の行は列 (カラム) の名前を示しています。\n",
    "データによってはカラム名がないこともあります。\n",
    "\n",
    "Python で処理を行う前に、データファイルをメモ帳などで開いて、中身を確認しておくことをおすすめします。\n",
    "その際に、データを書き換えないように注意しましょう。\n",
    "\n",
    "`read_csv` 関数は、引数としてファイルのパスを指定します。\n",
    "読み込んだデータを `DataFrame` に変換して返します。"
   ]
  },
  {
   "cell_type": "code",
   "execution_count": null,
   "metadata": {},
   "outputs": [],
   "source": [
    "import pandas as pd\n",
    "data = pd.read_csv(\"/content/sample_data/california_housing_train.csv\")\n",
    "data.head()"
   ]
  },
  {
   "cell_type": "markdown",
   "metadata": {},
   "source": [
    "## カリフォルニア住宅データ\n",
    "\n",
    "`california_housing_train.csv`, `california_housing_test.csv` にあるデータは、カリフォルニアの住宅のデータです。\n",
    "\n",
    "データはブロック単位の集計データで、ブロックの緯度・経度、価格や築年数などが格納されています。\n",
    "\n",
    "https://docs.google.com/document/d/e/2PACX-1vRhYtsvc5eOR2FWNCwaBiKL6suIOrxJig8LcSBbmCbyYsayia_DvPOOBlXZ4CAlQ5nlDD8kTaIDRwrN/pub\n",
    "\n",
    "読み込んでだデータを用いて、次を行ってください。\n",
    "\n",
    "- 世帯数のデータ型の確認\n",
    "- 平均価格の計算\n",
    "- 居住人数の最大値の取得\n",
    "- 最も寝室数が多いブロックの緯度・経度の取得\n",
    "- 価格が平均より高ければ 1、そうではなければ 0 をとる変数の追加"
   ]
  },
  {
   "cell_type": "markdown",
   "metadata": {},
   "source": [
    "## データ出力\n",
    "\n",
    "`pandas` で `read_xxx` 関数で特定のファイルを読み込めたように、`to_xxx` メソッドを用いることで `DataFrame` を特定のファイルとして出力できます。\n",
    "\n",
    "良く用いられるのが、`to_csv` メソッドで、csv 形式のデータファイルに変換してくれます。\n",
    "\n",
    "メソッドの引数には、出力先のファイルパスを指定します。\n",
    "\n",
    "拡張子 (`csv`) も忘れずに記載するようにしてください。\n",
    "\n",
    "以下の例は、作成した `DataFrame` を `sample_output.csv` というファイル名の csv ファイルとして出力しています。"
   ]
  },
  {
   "cell_type": "code",
   "execution_count": null,
   "metadata": {},
   "outputs": [],
   "source": [
    "test_data = pd.DataFrame({\n",
    "    '学生ID': [1, 2, 3, 4, 5, 6, 7, 8, 9, 10],\n",
    "    'クラス': ['A', 'A', 'B', 'B', 'A', 'B', 'A', 'B', 'A', 'B'],\n",
    "    '教科': ['数学', '国語', '数学', '国語', '数学', '国語', '数学', '国語', '数学', '国語'],\n",
    "    '点数': [80, 75, 90, 85, 70, 80, 95, 90, 85, 78]\n",
    "})\n",
    "test_data"
   ]
  },
  {
   "cell_type": "code",
   "execution_count": null,
   "metadata": {},
   "outputs": [],
   "source": [
    "test_data.to_csv(\"sample_output.csv\")  # csv として出力"
   ]
  },
  {
   "cell_type": "markdown",
   "metadata": {},
   "source": [
    "`content` フォルダ内に `sample_output.csv` というファイルが作成されていることを確認してください。\n",
    "\n",
    "インデックスが単なる番号である場合、`index = False` を引数に入れることでインデックスの出力を除外できます。\n",
    "\n",
    "他に出力できるデータ形式については、pandas のドキュメントを参考にしてください。\n",
    "\n",
    "- https://pandas.pydata.org/docs/reference/io.html"
   ]
  }
 ],
 "metadata": {
  "language_info": {
   "name": "python"
  }
 },
 "nbformat": 4,
 "nbformat_minor": 2
}
